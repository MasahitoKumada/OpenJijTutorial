{
 "cells": [
  {
   "cell_type": "markdown",
   "source": [
    "# 12-Finding Protein Folding by Quantum Annealing"
   ],
   "metadata": {}
  },
  {
   "cell_type": "markdown",
   "source": [
    "2012年に、〜がタンパク質折り畳み問題を量子アニーリングを用いて解きました[1]。\n",
    "\n",
    "このチュートリアルでは、SAを用いてタンパク質折り畳み問題を解いてみました。"
   ],
   "metadata": {}
  },
  {
   "cell_type": "markdown",
   "source": [
    "## 問題の概要とHPモデル、Mijazawa-Jernigan(MJ)モデル \n",
    "\n",
    "### 問題概要\n",
    "\n",
    "タンパク質の立体構造をラティスフォールディングモデル(https://en.wikipedia.org/wiki/Lattice_protein)という単純な格子モデルとして捉え、HUBOの形式にエンコードし、最適解を求め、立体構造を決定します。特に参考論文[1]では、２次元上の構造問題として見做し、解いています。ラティスフォールディングモデルとして、タンパク質の構造を予測するために、HPモデルを使用しています。\n",
    "\n",
    "\n",
    "### HPモデル \n",
    "- アミノ酸をＨ（疎水性、非極性アミノ酸）とＰ(親水性、極性アミノ酸）のいずれかに分ける。\n",
    "- 参考：http://www.iba.t.u-tokyo.ac.jp/iba/AI/HP.pdf\n",
    "\n",
    "### MJモデル\n",
    "- 今回は単純化されたMJモデルを利用します。\n",
    "\n",
    "<div>\n",
    "    <img src=\"images/hp_model1.png\" width=\"300\" height=\"200\">\n",
    "    図１：ラティスフォールディングモデル模式図(wikipeadia)\n",
    "</div>"
   ],
   "metadata": {}
  },
  {
   "cell_type": "markdown",
   "source": [
    "## MJモデルのHUBOへの適用\n",
    "\n",
    "用意された塩基列を特定の方向に回転させる操作をイジングモデルに対応させています。\n",
    "\n",
    "今回使用する塩基列は、PSVKMAの配列で下記のように特定の塩基列が隣接すると安定状態になり、エネルギーが減ります。\n",
    "\n",
    "このエネルギーの安定化を使っってコスト関数を最小化させることを考えます。また、今回塩基列を全て一度に処理するのは難しいのでいくつかのパターンに分けます。\n",
    "\n",
    "すでにいくつかの折り畳まれたパターンから出発して安定状態を求めます。\n",
    "数が多くないので書き出すことができ、最も低いエネルギー安定状態を求めることができます。\n",
    "\n",
    "本チュートリアルでは、実験３のschemeに絞り、取り上げて一番エネルギーの低い状態を立式から導出したいと思います。"
   ],
   "metadata": {}
  },
  {
   "cell_type": "markdown",
   "source": [
    "## 　コスト関数\n",
    "\n",
    "タンパク質の構造をラティスフォールディングモデルとして考えるにあたり、一般のコスト関数は、以下となります。\n",
    "\n",
    "$$E_p = E_{onsite} + E_{pw} + E_{ext}$$\n",
    "\n",
    "- 第１項: タンパク質の塩基列が重ならない\n",
    "- 第２項: は塩基列同士の近接の相互作用のエネルギー\n",
    "- 第３項: 外部からの影響\n",
    "\n",
    "論文中の実験３については、第３項は使用しないため、コスト関数は以下となります。\n",
    "\n",
    "$$E_p = E_{onsite} + E_{pw}$$\n"
   ],
   "metadata": {}
  },
  {
   "cell_type": "markdown",
   "source": [
    "## モデル\n",
    "\n",
    "本チュートリアルでは、図　のScheme3のExperiment3を初期状態にして、考えたいと思います。塩基列は、\n",
    "\n",
    "P-S-V-K-M-A\n",
    "\n",
    "この順番ですが、今回はある程度折りたたまれた状態で始まります。\n",
    "\n",
    "\n",
    "<div>\n",
    "    <img src=\"images/scheme.png\" width=\"600\" height=\"600\">\n",
    "     図　：　（[1]のFigure を改変）\n",
    "</div>\n",
    "\n",
    "この場合、PSKVまでは決まっていて、Mは下か左が決まっていますので、Pから順番に書いてみると、\n",
    "\n",
    "$$010010q_10q_2q_3$$\n",
    "\n",
    "となり、３量子ビットの式に還元されます。$01$は右、$00$は下、$10$は左、Mは下か左しかないので、$00$か$10$なので、$0$は決まっていて、残りの$q_1$から$q_3$をイジング問題で求めます。\n",
    "\n",
    "<div>\n",
    "    <img src=\"images/make_costfunction_about_protein_folding.png\" width=\"600\" height=\"400\">\n",
    "    図　：　([1]のFigure を一部利用)\n",
    "</div>\n",
    "\n",
    "\n",
    "コスト関数は、\n",
    "\n",
    "$$E = -1-4q_3+9q_1q_3+9q_2q_3-16q_1q_2q_3$$"
   ],
   "metadata": {}
  },
  {
   "cell_type": "markdown",
   "source": [
    "## HUBOの直接解法"
   ],
   "metadata": {}
  },
  {
   "cell_type": "code",
   "execution_count": 1,
   "source": [
    "import openjij as oj\n",
    "\n",
    "# Only SASampler can handle HUBO.\n",
    "sampler = oj.SASampler()\n",
    "\n",
    "# define polynomial\n",
    "polynomial = {():-1, (3,): -4, (1,3): 9, (2,3): 9, (1,2,3): -16}"
   ],
   "outputs": [],
   "metadata": {}
  },
  {
   "cell_type": "code",
   "execution_count": 21,
   "source": [
    "import numpy as np\n",
    "\n",
    "response = sampler.sample_hubo(polynomial, vartype=\"BINARY\", num_reads=100)\n",
    "(np.array(response.energies)==-5)"
   ],
   "outputs": [
    {
     "output_type": "execute_result",
     "data": {
      "text/plain": [
       "array([False, False, False, False, False, False, False, False, False,\n",
       "       False, False, False, False, False, False, False, False, False,\n",
       "       False, False,  True, False, False, False, False,  True, False,\n",
       "       False, False, False, False, False,  True, False, False, False,\n",
       "       False, False,  True, False, False, False, False, False, False,\n",
       "       False, False,  True, False, False,  True, False, False, False,\n",
       "       False, False, False, False, False, False, False, False, False,\n",
       "        True, False, False, False, False, False, False,  True, False,\n",
       "        True, False, False, False,  True,  True, False, False, False,\n",
       "       False, False, False, False, False,  True, False,  True, False,\n",
       "       False, False, False,  True, False, False, False, False,  True,\n",
       "       False])"
      ]
     },
     "metadata": {},
     "execution_count": 21
    }
   ],
   "metadata": {}
  },
  {
   "cell_type": "code",
   "execution_count": 22,
   "source": [
    "\n",
    "response = sampler.sample_hubo(polynomial, vartype=\"BINARY\", updater=\"single spin flip\", num_reads=100)\n",
    "(np.array(response.energies)==-5)\n"
   ],
   "outputs": [
    {
     "output_type": "execute_result",
     "data": {
      "text/plain": [
       "array([False,  True,  True, False, False, False,  True,  True, False,\n",
       "        True,  True, False,  True,  True, False, False, False,  True,\n",
       "       False,  True,  True, False, False, False, False, False,  True,\n",
       "       False,  True,  True, False, False,  True,  True,  True,  True,\n",
       "        True, False,  True,  True, False,  True, False, False, False,\n",
       "       False, False,  True, False, False, False,  True,  True,  True,\n",
       "        True, False, False, False, False, False, False, False,  True,\n",
       "        True,  True, False,  True,  True,  True, False, False, False,\n",
       "        True, False, False,  True, False, False, False, False, False,\n",
       "        True, False, False, False, False, False,  True,  True,  True,\n",
       "       False, False, False,  True,  True,  True, False,  True, False,\n",
       "       False])"
      ]
     },
     "metadata": {},
     "execution_count": 22
    }
   ],
   "metadata": {}
  },
  {
   "cell_type": "markdown",
   "source": [
    "## QUBO変換による解法"
   ],
   "metadata": {}
  },
  {
   "cell_type": "code",
   "execution_count": 3,
   "source": [
    "import dimod\n",
    "\n",
    "# Polynomial相互作用、ペナルティの大きさ、変数のタイプを指定して対応するquadraticモデルを生成する。\n",
    "bqm = dimod.make_quadratic(poly=polynomial, strength=5.0, vartype=\"BINARY\")\n",
    "print('0次の項:', bqm.offset)\n",
    "print('1次の項:', dict(bqm.linear))    # bqm.linearはpythonのdictに変換して表示する。\n",
    "print('2次の項:', dict(bqm.quadratic)) # bqm.quadraticもpythonのdictに変換して表示する。"
   ],
   "outputs": [
    {
     "output_type": "stream",
     "name": "stdout",
     "text": [
      "0次の項: -1.0\n",
      "1次の項: {3: -4.0, 1: 0.0, 2: 0.0, '1*2': 15.0}\n",
      "2次の項: {(1, 3): 9.0, (2, 3): 9.0, (2, 1): 5.0, ('1*2', 3): -16.0, ('1*2', 1): -10.0, ('1*2', 2): -10.0}\n"
     ]
    }
   ],
   "metadata": {}
  },
  {
   "cell_type": "code",
   "execution_count": 4,
   "source": [
    "# インデックスを1始まりの整数に変換する関数\n",
    "def relabel_variables_as_integers(dimod_bqm):\n",
    "    mapping = {}\n",
    "    variables = list(dimod_bqm.variables)\n",
    "    count = 1\n",
    "    for key in variables:\n",
    "        mapping[key] = count\n",
    "        count += 1\n",
    "    linear    = {mapping[k]:v for k,v in dimod_bqm.linear.items()}\n",
    "    quadratic = {(mapping[k[0]], mapping[k[1]]):v for k,v in dimod_bqm.quadratic.items()}\n",
    "    return dimod.BinaryQuadraticModel(linear, quadratic, dimod_bqm.offset, dimod_bqm.vartype), mapping\n",
    "\n",
    "\n",
    "bqm_relabeled, mapping = relabel_variables_as_integers(bqm) # インデックスを1始まりに変換する。\n",
    "\n",
    "print('0次の項:', bqm_relabeled.offset)\n",
    "print('1次の項:', dict(bqm_relabeled.linear))    # bqm.linearはpythonのdictに変換して表示する。\n",
    "print('2次の項:', dict(bqm_relabeled.quadratic)) # bqm.quadraticもpythonのdictに変換して表示する。\n",
    "print('変数の対応関係:', mapping) # Relabelした後のインデックスと元のインデックスの対応関係を表示する。"
   ],
   "outputs": [
    {
     "output_type": "stream",
     "name": "stdout",
     "text": [
      "0次の項: -1.0\n",
      "1次の項: {2: 0.0, 1: -4.0, 3: 0.0, 4: 15.0}\n",
      "2次の項: {(1, 2): 9.0, (3, 2): 5.0, (3, 1): 9.0, (4, 2): -10.0, (4, 1): -16.0, (4, 3): -10.0}\n",
      "変数の対応関係: {3: 1, 1: 2, 2: 3, '1*2': 4}\n"
     ]
    }
   ],
   "metadata": {}
  },
  {
   "cell_type": "code",
   "execution_count": 5,
   "source": [
    "# dimodのbqm_relabeledはOpenJijのBinaryQuadraticModelに変換する。\n",
    "bqm_oj = oj.BinaryQuadraticModel(dict(bqm_relabeled.linear), dict(bqm_relabeled.quadratic), bqm_relabeled.offset, vartype=\"BINARY\")\n",
    "\n",
    "#　ここまでの前処理をした後に、sampleメソッドに投げることができる。\n",
    "response = sampler.sample(bqm_oj)\n",
    "print(response)"
   ],
   "outputs": [
    {
     "output_type": "stream",
     "name": "stdout",
     "text": [
      "   1  2  3  4 energy num_oc.\n",
      "0  1  0  1  1   -7.0       1\n",
      "['BINARY', 1 rows, 1 samples, 4 variables]\n"
     ]
    }
   ],
   "metadata": {}
  },
  {
   "cell_type": "code",
   "execution_count": 6,
   "source": [
    "# 元のHUBOの解に焼き直す。\n",
    "hubo_configuration = {i: response.record[0][0][mapping[i]] for i in range(1, 4)}\n",
    "print('対応するHUBOの解:', hubo_configuration)\n",
    "print('対応するHUBOの解のエネルギー:', dimod.BinaryPolynomial(polynomial, \"BINARY\").energy(hubo_configuration))"
   ],
   "outputs": [
    {
     "output_type": "stream",
     "name": "stdout",
     "text": [
      "対応するHUBOの解: {1: 1, 2: 1, 3: 0}\n",
      "対応するHUBOの解のエネルギー: -1.0\n"
     ]
    }
   ],
   "metadata": {}
  },
  {
   "cell_type": "markdown",
   "source": [
    "## 元のHUBOの最適解を確認"
   ],
   "metadata": {}
  },
  {
   "cell_type": "code",
   "execution_count": 7,
   "source": [
    "# 元のHUBOの最適解を確認する。\n",
    "sampleset = dimod.ExactPolySolver().sample_hubo(H=polynomial)\n",
    "print('最適解:', sampleset.first.sample)\n",
    "print('対応するエネルギー:',sampleset.first.energy)"
   ],
   "outputs": [
    {
     "output_type": "stream",
     "name": "stdout",
     "text": [
      "最適解: {1: 0, 2: 0, 3: 1}\n",
      "対応するエネルギー: -5.0\n"
     ]
    }
   ],
   "metadata": {}
  },
  {
   "cell_type": "markdown",
   "source": [
    "## 考察\n",
    "- HUBOの直接解法, QUBO変換による解法ともに、最適解と一致しなかった。"
   ],
   "metadata": {}
  },
  {
   "cell_type": "markdown",
   "source": [
    "## 引用文献\n",
    "\n",
    "-[1]Finding low-energy conformations of lattice protein models by quantum annealing Alejandro Perdomo-Ortiz, Neil Dickson, Marshall Drew-Brook, Geordie Rose & Alán Aspuru-Guzik Scientific Reports volume 2, Article number: 571 (2012)\n",
    "- https://www.nature.com/articles/srep00571"
   ],
   "metadata": {}
  },
  {
   "cell_type": "markdown",
   "source": [],
   "metadata": {}
  }
 ],
 "metadata": {
  "orig_nbformat": 4,
  "language_info": {
   "name": "python",
   "version": "3.7.4",
   "mimetype": "text/x-python",
   "codemirror_mode": {
    "name": "ipython",
    "version": 3
   },
   "pygments_lexer": "ipython3",
   "nbconvert_exporter": "python",
   "file_extension": ".py"
  },
  "kernelspec": {
   "name": "python3",
   "display_name": "Python 3.7.4 64-bit ('Jij': pyenv)"
  },
  "interpreter": {
   "hash": "26149c88d220c3ed2d17341f1c6f96caae4173defcdd371f100d436532ba42d1"
  }
 },
 "nbformat": 4,
 "nbformat_minor": 2
}