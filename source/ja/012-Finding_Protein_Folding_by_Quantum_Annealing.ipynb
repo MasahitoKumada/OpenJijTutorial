{
 "cells": [
  {
   "cell_type": "markdown",
   "source": [
    "# 12-Finding Protein Folding by Quantum Annealing"
   ],
   "metadata": {}
  },
  {
   "cell_type": "markdown",
   "source": [
    "2012年に、Alejandroらがタンパク質折り畳み問題を量子アニーリングマシン(D-wave)を用いて解きました[1]。\n",
    "\n",
    "ここでタンパク質折り畳み問題とは、「アミノ酸配列という１次元的情報からそのタンパク質の３次元的立体構造を予測すること」です。\n",
    "そもそも、アミノ酸配列によってタンパク質は特徴付けられ、１つのアミノ酸配列に対して１つの固有の立体構造が対応することが知られております。\n",
    "タンパク質はその固有の立体構造を持って初めて生体高分子としての機能を果たすため、アミノ酸配列の情報からそのタンパク質の立体構造を予測することは非常に重要な問題です。しかし、アミノ酸配列とタンパク質の立体構造との因果関係はまだよくわかっていないため、非常に難しい問題です。\n",
    "\n",
    "このチュートリアルでは、SAを用いてタンパク質折り畳み問題を解きます。"
   ],
   "metadata": {}
  },
  {
   "cell_type": "markdown",
   "source": [
    "## 問題の概要とHydrophobic-Polar(HP)モデル、Mijazawa-Jernigan(MJ)モデル \n",
    "\n",
    "### 問題概要\n",
    "\n",
    "タンパク質の立体構造をラティスフォールディングモデル[2]という単純な格子モデルとして捉え、HUBOの形式にエンコードし、最適解を求め、立体構造を決定します。特に参考論文[1]では、２次元上の構造問題として見做し、解いています。ラティスフォールディングモデルにはいくつか種類があり、 以下代表的な２つのモデル、HPモデルとMJモデルについて紹介します。\n",
    "\n",
    "\n",
    "### HPモデル \n",
    "タンパク質は数十から数百程度のアミノ酸配列からなるポリペプチドが折り畳まった安定した立体構造を持つが、その立体構造を決定するために、ポリペプチドの３次元立体構造をそのままの状態で扱うのは、計算量が膨大でスーパーコンピュータ等を利用しても難しいのが現状です。\n",
    "なぜなら、タンパク質分子のエネルギーを計算するには、水素結合、静電相互作用、ファンデルワールス力、疎水相互作用等の様々な力を考慮する必要があるからです。しかし、疎水相互作用だけを扱った極めて単純なモデルでもある程度のことが説明できます。\n",
    "\n",
    "LauとDillは疎水性相互作用のみを考慮した格子モデルHPモデル[2]を提案しました。\n",
    "このモデルは、アミノ酸は疎水性と親水性の2種類のみからなると見做し､タンパク質のアミノ酸配列はHとPの配列として表現されるものです。そして､Hモノマー同士が最近接格子にきた場合､自由エネルギーが得をするというモデルです。\n",
    "\n",
    "参考：\n",
    "- https://repository.kulib.kyoto-u.ac.jp/dspace/bitstream/2433/96792/1/KJ00004709268.pdf\n",
    "- http://www.iba.t.u-tokyo.ac.jp/iba/AI/HP.pdf\n",
    "\n",
    "\n",
    "### MJモデル\n",
    "\n",
    "HPモデルは、アミノ酸は疎水性と親水性の2種類のみからなると見做しているため、20種類のアミノ酸どうしの相互作用の大きさの違いは考慮していません。しかし、実際のタンパク質では、アミノ酸どうしの相互作用の大きさの違いがあります。この違いを考慮したモデルが、MJモデルです。\n",
    "\n",
    "MJモデルは、立体構造が既知のタンパク質を多数集め、それらの中から互いに近距離にあるアミノ酸ペアの個数を数え上げ、図４左下のアミノ酸間の相互作用エネルギーとして表現したものです。\n",
    "立体構造群の中でのアミノ酸ペアの数が多ければ、そのアミノ酸ペアのエネルギーの値も大きくなります。つまり、MJエネルギーはアミノ酸ペアを形成しやすい・しにくい傾向を表現している指標ということが言えます。\n",
    "\n",
    "\n",
    "参考論文では、タンパク質のような性質を記述するには、20種類のアミノ酸すべての間のユニークな相互作用を明示的に考慮した一般化モデルの方がより正確に記述できると考え、今回は参考論文[3]のTable3に報告されているのMJモデルを用いています。\n",
    "\n"
   ],
   "metadata": {}
  },
  {
   "cell_type": "markdown",
   "source": [
    "## 解法の概要\n",
    "\n",
    "今回使用するアミノ酸配列は、2次元のMJモデル、Proline-Serine-Valine-Lysine-Methionine-Alanineの6アミノ酸配列(1文字のアミノ酸配列表記ではPSVKMA)です。\n",
    "\n",
    "後述のように特定のアミノ酸配列が隣接すると安定状態になり、エネルギーが減ります。このエネルギーの安定化を使ってコスト関数を最小化させることを考えます。また、今回アミノ酸配列を全て一度に処理するのは難しいのでいくつかのパターンに分けます。\n",
    "\n",
    "すでにいくつかの折り畳まれたパターンから出発して安定状態を求めます。具体的には、実験３のschemeに絞ります。\n",
    "コスト関数の定式化を定式化する際に場合分けのパターンが多くないため、比較的容易に書き出すことができるためです。\n",
    "\n",
    "以下、本チュートリアルではの順で詳細な解法手順を説明します。\n",
    "\n",
    "1. ラティスフォールディングのビット表現方法\n",
    "2. コスト関数の定式化\n",
    "3. HUBOの直接解法\n",
    "4. HUBOによる直接解法と参考論文[1]の結果との比較"
   ],
   "metadata": {}
  },
  {
   "cell_type": "markdown",
   "source": [
    "## 1. ラティスフォールディングのビット表現方法\n",
    "\n",
    "タンパク質をラティスフォールディングモデルとして、２値表現で埋込みます。1つの結合につき2つのビットが必要であり、結合の方向は、00(下向き)、01(右向き)、10(左向き)、11(上向き)と表記します。この例では、任意の6つのアミノ酸配列の可能な折り方の1つを示しています。\n",
    "任意の$N$-アミノ酸配列の折り畳みは、$010q_\\mathrm{1}q_\\mathrm{2}q_\\mathrm{3}…q_{l-1}q_{l}(l=2N-5)$という変数の列で表すことができます。\n",
    "\n",
    "<div>\n",
    "    <img src=\"images/lattice_folding_mapping.png\" width=\"400\" height=\"300\"><br />\n",
    "    図2：ラティスフォールディングの埋込みの様子（[1]のFigure2(a)）\n",
    "</div>"
   ],
   "metadata": {}
  },
  {
   "cell_type": "markdown",
   "source": [
    "## 　2. コスト関数の定式化\n",
    "\n",
    "タンパク質の構造をラティスフォールディングモデルとして考えるにあたり、コスト関数を定式化すると、以下のようにとなります。\n",
    "\n",
    "$$E_\\mathrm{p} = E_\\mathrm{onsite} + E_\\mathrm{pw} + E_\\mathrm{ext}$$\n",
    "\n",
    "- 第１項: タンパク質のアミノ酸配列が重ならない場合のエネルギー\n",
    "- 第２項: はアミノ酸配列同士の近接の相互作用のエネルギー(pw: pair-wise)\n",
    "- 第３項: 外部からの影響のエネルギー(ext: external)\n",
    "\n",
    "論文中の実験３については、第３項は使用しないため、コスト関数は以下となります。\n",
    "\n",
    "$$E_\\mathrm{p} = E_\\mathrm{onsite} + E_\\mathrm{pw}$$\n"
   ],
   "metadata": {}
  },
  {
   "cell_type": "markdown",
   "source": [
    "本チュートリアルでは、図3のScheme3のExperiment3を初期状態にして考えます。アミノ酸配列は、\n",
    "\n",
    "P-S-V-K-M-A\n",
    "\n",
    "この順番ですが、今回はある程度折りたたまれた状態で始まります。\n",
    "\n",
    "<div>\n",
    "    <img src=\"images/scheme.png\" width=\"600\" height=\"600\"><br />\n",
    "     図3：Experiment3を初期状態([1]のFigure3(b)を改変)\n",
    "</div>\n",
    "\n",
    "\n",
    "### 2次元構造のビット表現方法\n",
    "\n",
    "この場合、PSVKまでは決まっていて、Mは下か左が決まっているので、Pから順番に書いてみると以下のように3ビットの式に還元されます。\n",
    "\n",
    "$$010010q_10q_2q_3$$\n",
    "\n",
    "初めの6ビットについては、アミノ酸P, S, V, Kが、右、下、左の構造を取るため、010010と表される。\n",
    "\n",
    "続いて、Mは下か左しかないので、$00$か$10$なので、$0$は決まっていて、残りの$q_1$から$q_3$をHUBO問題として求めます。\n",
    "\n",
    "### コスト関数設計\n",
    "\n",
    "コスト関数設計の様子を以下の図４に示しました。図４の詳細について説明します。\n",
    "\n",
    "<div>\n",
    "    <img src=\"images/make_costfunction_about_protein_folding.png\" width=\"600\" height=\"400\"><br />\n",
    "    図4：コスト関数の定式化([1]のFigure3(a)を一部利用)\n",
    "</div>\n",
    "\n",
    "1. 実験3の初期状態では、P-Kの相互作用で-1分のエネルギーが生じます。\n",
    "\n",
    "以下、2~5は折り畳まれ得る状態に応じて、場合分けして、エネルギー最小になるようにコスト関数を設計します。\n",
    "最近接のアミノ酸間の相互作用によるコストは図４の表を用い、アミノ酸間の折り返しによるコストは+11と定義する。\n",
    "\n",
    "2. $(q_{1},q_{2},q_{3})=(0,0,1)$の場合の状態です。V-Aの相互作用で-4分のエネルギーが生じます。\n",
    "この場合のコスト関数は以下のように定式化すれば良いです。\n",
    "\n",
    " $$(1-q_{1})(1-q_{2})q_{3}(-4)$$\n",
    "\n",
    "3. $(q_{1},q_{2},q_{3})=(0,1,1)$の場合の状態です。P-A,V-Aの相互作用で-2,-4分のエネルギーが生じます。\n",
    "またM-Aの押り返しによるコスト+11が生じます。トータルで+5の重みがかかります。\n",
    "この場合のコスト関数は以下のように定式化すれば良いです。\n",
    "\n",
    "　$$(1-q_{1})q_{2}q_{3}(+5)$$\n",
    "\n",
    "4. $(q_{1},q_{2},q_{3})=(1,1,1)$の場合の状態です。P-Aの相互作用で-2分のエネルギーが生じます。\n",
    "この場合のコスト関数は以下のように定式化すれば良いです。\n",
    "\n",
    "　$$q_{1}q_{2}q_{3}(-2)$$\n",
    "\n",
    "5. $(q_{1},q_{2},q_{3})=(1,0,1)$の場合の状態です。P-A,V-Aの相互作用で-2,-4分のエネルギーが生じます。\n",
    "またM-Aの押り返しによるコスト+11が生じます。トータルで+5の重みがかかります。\n",
    "この場合のコスト関数は以下のように定式化すれば良いです。\n",
    "\n",
    "　$$(1-q_{1})q_{2}q_{3}(+5)$$\n",
    "\n",
    "\n",
    "1~5より、コスト関数は最終的に以下のようになります。\n",
    "\n",
    "$$E = -1-4q_3+9q_1q_3+9q_2q_3-16q_1q_2q_3$$"
   ],
   "metadata": {}
  },
  {
   "cell_type": "markdown",
   "source": [
    "## 3. HUBOの直接解法\n",
    "　2でコスト関数を定式化したので、実際にopenjijを使って解きます。"
   ],
   "metadata": {}
  },
  {
   "cell_type": "code",
   "execution_count": 24,
   "source": [
    "# HUBOを定義します。\n",
    "polynomial = {():-1, (3,): -4, (1,3): 9, (2,3): 9, (1,2,3): -16}"
   ],
   "outputs": [],
   "metadata": {}
  },
  {
   "cell_type": "code",
   "execution_count": 25,
   "source": [
    "import openjij as oj\n",
    "\n",
    "# HUBOメソッドを利用するためには、SASamplerメソッドを用いる必要があります。\n",
    "sampler = oj.SASampler()\n",
    "\n",
    "# SAによるシミュレーションを行う回数を指定します。ここでは、参考論文[1]でD-waveを用いて１万回の測定を行ったため、１万回に指定します。\n",
    "num_sa = 10000 \n",
    "\n",
    "# 変数は、バイナリ変数、変数の更新方式は、single spin flipを指定します。\n",
    "response = sampler.sample_hubo(polynomial, vartype=\"BINARY\", updater=\"single spin flip\", num_reads=num_sa)\n",
    "\n",
    "energy_hubo = response.energies\n",
    "print(energy_hubo)"
   ],
   "outputs": [
    {
     "output_type": "stream",
     "name": "stdout",
     "text": [
      "[-3. -5. -3. ... -1. -5. -1.]\n"
     ]
    }
   ],
   "metadata": {}
  },
  {
   "cell_type": "markdown",
   "source": [
    " sample_huboメソッドを用いて100回実行したところ、異なる種類の解が複数回得られることがわかります。\n",
    " 解の頻度について、エネルギーのヒストグラムとして可視化してみましょう。"
   ],
   "metadata": {}
  },
  {
   "cell_type": "code",
   "execution_count": 26,
   "source": [
    "import matplotlib.pyplot as plt\n",
    "\n",
    "plt.hist(energy_hubo, bins=15)\n",
    "plt.xlabel('Energy', fontsize=15)\n",
    "plt.ylabel('Frequency', fontsize=15)\n",
    "plt.show()"
   ],
   "outputs": [
    {
     "output_type": "display_data",
     "data": {
      "image/png": "[encoded data removed]",
      "image/svg+xml": "<?xml version=\"1.0\" encoding=\"utf-8\" standalone=\"no\"?>\n<!DOCTYPE svg PUBLIC \"-//W3C//DTD SVG 1.1//EN\"\n  \"http://www.w3.org/Graphics/SVG/1.1/DTD/svg11.dtd\">\n<svg height=\"267.035312pt\" version=\"1.1\" viewBox=\"0 0 400.167187 267.035312\" width=\"400.167187pt\" xmlns=\"http://www.w3.org/2000/svg\" xmlns:xlink=\"http://www.w3.org/1999/xlink\">\n <metadata>\n  <rdf:RDF xmlns:cc=\"http://creativecommons.org/ns#\" xmlns:dc=\"http://purl.org/dc/elements/1.1/\" xmlns:rdf=\"http://www.w3.org/1999/02/22-rdf-syntax-ns#\">\n   <cc:Work>\n    <dc:type rdf:resource=\"http://purl.org/dc/dcmitype/StillImage\"/>\n    <dc:date>2021-09-22T18:53:16.832737</dc:date>\n    <dc:format>image/svg+xml</dc:format>\n    <dc:creator>\n     <cc:Agent>\n      <dc:title>Matplotlib v3.4.3, https://matplotlib.org/</dc:title>\n     </cc:Agent>\n    </dc:creator>\n   </cc:Work>\n  </rdf:RDF>\n </metadata>\n <defs>\n  <style type=\"text/css\">*{stroke-linecap:butt;stroke-linejoin:round;}</style>\n </defs>\n <g id=\"figure_1\">\n  <g id=\"patch_1\">\n   <path d=\"M 0 267.035312 \nL 400.167187 267.035312 \nL 400.167187 0 \nL 0 0 \nz\n\" style=\"fill:none;\"/>\n  </g>\n  <g id=\"axes_1\">\n   <g id=\"patch_2\">\n    <path d=\"M 58.167188 224.64 \nL 392.967188 224.64 \nL 392.967188 7.2 \nL 58.167188 7.2 \nz\n\" style=\"fill:#ffffff;\"/>\n   </g>\n   <g id=\"patch_3\">\n    <path clip-path=\"url(#p762173efa6)\" d=\"M 73.385369 224.64 \nL 93.676278 224.64 \nL 93.676278 17.554286 \nL 73.385369 17.554286 \nz\n\" style=\"fill:#1f77b4;\"/>\n   </g>\n   <g id=\"patch_4\">\n    <path clip-path=\"url(#p762173efa6)\" d=\"M 93.676278 224.64 \nL 113.967188 224.64 \nL 113.967188 224.64 \nL 93.676278 224.64 \nz\n\" style=\"fill:#1f77b4;\"/>\n   </g>\n   <g id=\"patch_5\">\n    <path clip-path=\"url(#p762173efa6)\" d=\"M 113.967188 224.64 \nL 134.258097 224.64 \nL 134.258097 224.64 \nL 113.967188 224.64 \nz\n\" style=\"fill:#1f77b4;\"/>\n   </g>\n   <g id=\"patch_6\">\n    <path clip-path=\"url(#p762173efa6)\" d=\"M 134.258097 224.64 \nL 154.549006 224.64 \nL 154.549006 145.135736 \nL 134.258097 145.135736 \nz\n\" style=\"fill:#1f77b4;\"/>\n   </g>\n   <g id=\"patch_7\">\n    <path clip-path=\"url(#p762173efa6)\" d=\"M 154.549006 224.64 \nL 174.839915 224.64 \nL 174.839915 224.64 \nL 154.549006 224.64 \nz\n\" style=\"fill:#1f77b4;\"/>\n   </g>\n   <g id=\"patch_8\">\n    <path clip-path=\"url(#p762173efa6)\" d=\"M 174.839915 224.64 \nL 195.130824 224.64 \nL 195.130824 224.64 \nL 174.839915 224.64 \nz\n\" style=\"fill:#1f77b4;\"/>\n   </g>\n   <g id=\"patch_9\">\n    <path clip-path=\"url(#p762173efa6)\" d=\"M 195.130824 224.64 \nL 215.421733 224.64 \nL 215.421733 100.596698 \nL 195.130824 100.596698 \nz\n\" style=\"fill:#1f77b4;\"/>\n   </g>\n   <g id=\"patch_10\">\n    <path clip-path=\"url(#p762173efa6)\" d=\"M 215.421733 224.64 \nL 235.712642 224.64 \nL 235.712642 224.64 \nL 215.421733 224.64 \nz\n\" style=\"fill:#1f77b4;\"/>\n   </g>\n   <g id=\"patch_11\">\n    <path clip-path=\"url(#p762173efa6)\" d=\"M 235.712642 224.64 \nL 256.003551 224.64 \nL 256.003551 224.64 \nL 235.712642 224.64 \nz\n\" style=\"fill:#1f77b4;\"/>\n   </g>\n   <g id=\"patch_12\">\n    <path clip-path=\"url(#p762173efa6)\" d=\"M 256.003551 224.64 \nL 276.29446 224.64 \nL 276.29446 224.64 \nL 256.003551 224.64 \nz\n\" style=\"fill:#1f77b4;\"/>\n   </g>\n   <g id=\"patch_13\">\n    <path clip-path=\"url(#p762173efa6)\" d=\"M 276.29446 224.64 \nL 296.585369 224.64 \nL 296.585369 224.64 \nL 276.29446 224.64 \nz\n\" style=\"fill:#1f77b4;\"/>\n   </g>\n   <g id=\"patch_14\">\n    <path clip-path=\"url(#p762173efa6)\" d=\"M 296.585369 224.64 \nL 316.876278 224.64 \nL 316.876278 224.64 \nL 296.585369 224.64 \nz\n\" style=\"fill:#1f77b4;\"/>\n   </g>\n   <g id=\"patch_15\">\n    <path clip-path=\"url(#p762173efa6)\" d=\"M 316.876278 224.64 \nL 337.167188 224.64 \nL 337.167188 224.64 \nL 316.876278 224.64 \nz\n\" style=\"fill:#1f77b4;\"/>\n   </g>\n   <g id=\"patch_16\">\n    <path clip-path=\"url(#p762173efa6)\" d=\"M 337.167188 224.64 \nL 357.458097 224.64 \nL 357.458097 224.64 \nL 337.167188 224.64 \nz\n\" style=\"fill:#1f77b4;\"/>\n   </g>\n   <g id=\"patch_17\">\n    <path clip-path=\"url(#p762173efa6)\" d=\"M 357.458097 224.64 \nL 377.749006 224.64 \nL 377.749006 219.020589 \nL 357.458097 219.020589 \nz\n\" style=\"fill:#1f77b4;\"/>\n   </g>\n   <g id=\"matplotlib.axis_1\">\n    <g id=\"xtick_1\">\n     <g id=\"line2d_1\">\n      <defs>\n       <path d=\"M 0 0 \nL 0 3.5 \n\" id=\"mde1093b551\" style=\"stroke:#000000;stroke-width:0.8;\"/>\n      </defs>\n      <g>\n       <use style=\"stroke:#000000;stroke-width:0.8;\" x=\"107.203551\" xlink:href=\"#mde1093b551\" y=\"224.64\"/>\n      </g>\n     </g>\n     <g id=\"text_1\">\n      <!-- −4 -->\n      <g transform=\"translate(99.832457 239.238437)scale(0.1 -0.1)\">\n       <defs>\n        <path d=\"M 678 2272 \nL 4684 2272 \nL 4684 1741 \nL 678 1741 \nL 678 2272 \nz\n\" id=\"DejaVuSans-2212\" transform=\"scale(0.015625)\"/>\n        <path d=\"M 2419 4116 \nL 825 1625 \nL 2419 1625 \nL 2419 4116 \nz\nM 2253 4666 \nL 3047 4666 \nL 3047 1625 \nL 3713 1625 \nL 3713 1100 \nL 3047 1100 \nL 3047 0 \nL 2419 0 \nL 2419 1100 \nL 313 1100 \nL 313 1709 \nL 2253 4666 \nz\n\" id=\"DejaVuSans-34\" transform=\"scale(0.015625)\"/>\n       </defs>\n       <use xlink:href=\"#DejaVuSans-2212\"/>\n       <use x=\"83.789062\" xlink:href=\"#DejaVuSans-34\"/>\n      </g>\n     </g>\n    </g>\n    <g id=\"xtick_2\">\n     <g id=\"line2d_2\">\n      <g>\n       <use style=\"stroke:#000000;stroke-width:0.8;\" x=\"174.839915\" xlink:href=\"#mde1093b551\" y=\"224.64\"/>\n      </g>\n     </g>\n     <g id=\"text_2\">\n      <!-- −2 -->\n      <g transform=\"translate(167.468821 239.238437)scale(0.1 -0.1)\">\n       <defs>\n        <path d=\"M 1228 531 \nL 3431 531 \nL 3431 0 \nL 469 0 \nL 469 531 \nQ 828 903 1448 1529 \nQ 2069 2156 2228 2338 \nQ 2531 2678 2651 2914 \nQ 2772 3150 2772 3378 \nQ 2772 3750 2511 3984 \nQ 2250 4219 1831 4219 \nQ 1534 4219 1204 4116 \nQ 875 4013 500 3803 \nL 500 4441 \nQ 881 4594 1212 4672 \nQ 1544 4750 1819 4750 \nQ 2544 4750 2975 4387 \nQ 3406 4025 3406 3419 \nQ 3406 3131 3298 2873 \nQ 3191 2616 2906 2266 \nQ 2828 2175 2409 1742 \nQ 1991 1309 1228 531 \nz\n\" id=\"DejaVuSans-32\" transform=\"scale(0.015625)\"/>\n       </defs>\n       <use xlink:href=\"#DejaVuSans-2212\"/>\n       <use x=\"83.789062\" xlink:href=\"#DejaVuSans-32\"/>\n      </g>\n     </g>\n    </g>\n    <g id=\"xtick_3\">\n     <g id=\"line2d_3\">\n      <g>\n       <use style=\"stroke:#000000;stroke-width:0.8;\" x=\"242.476278\" xlink:href=\"#mde1093b551\" y=\"224.64\"/>\n      </g>\n     </g>\n     <g id=\"text_3\">\n      <!-- 0 -->\n      <g transform=\"translate(239.295028 239.238437)scale(0.1 -0.1)\">\n       <defs>\n        <path d=\"M 2034 4250 \nQ 1547 4250 1301 3770 \nQ 1056 3291 1056 2328 \nQ 1056 1369 1301 889 \nQ 1547 409 2034 409 \nQ 2525 409 2770 889 \nQ 3016 1369 3016 2328 \nQ 3016 3291 2770 3770 \nQ 2525 4250 2034 4250 \nz\nM 2034 4750 \nQ 2819 4750 3233 4129 \nQ 3647 3509 3647 2328 \nQ 3647 1150 3233 529 \nQ 2819 -91 2034 -91 \nQ 1250 -91 836 529 \nQ 422 1150 422 2328 \nQ 422 3509 836 4129 \nQ 1250 4750 2034 4750 \nz\n\" id=\"DejaVuSans-30\" transform=\"scale(0.015625)\"/>\n       </defs>\n       <use xlink:href=\"#DejaVuSans-30\"/>\n      </g>\n     </g>\n    </g>\n    <g id=\"xtick_4\">\n     <g id=\"line2d_4\">\n      <g>\n       <use style=\"stroke:#000000;stroke-width:0.8;\" x=\"310.112642\" xlink:href=\"#mde1093b551\" y=\"224.64\"/>\n      </g>\n     </g>\n     <g id=\"text_4\">\n      <!-- 2 -->\n      <g transform=\"translate(306.931392 239.238437)scale(0.1 -0.1)\">\n       <use xlink:href=\"#DejaVuSans-32\"/>\n      </g>\n     </g>\n    </g>\n    <g id=\"xtick_5\">\n     <g id=\"line2d_5\">\n      <g>\n       <use style=\"stroke:#000000;stroke-width:0.8;\" x=\"377.749006\" xlink:href=\"#mde1093b551\" y=\"224.64\"/>\n      </g>\n     </g>\n     <g id=\"text_5\">\n      <!-- 4 -->\n      <g transform=\"translate(374.567756 239.238437)scale(0.1 -0.1)\">\n       <use xlink:href=\"#DejaVuSans-34\"/>\n      </g>\n     </g>\n    </g>\n    <g id=\"text_6\">\n     <!-- Energy -->\n     <g transform=\"translate(199.307813 256.715781)scale(0.15 -0.15)\">\n      <defs>\n       <path d=\"M 628 4666 \nL 3578 4666 \nL 3578 4134 \nL 1259 4134 \nL 1259 2753 \nL 3481 2753 \nL 3481 2222 \nL 1259 2222 \nL 1259 531 \nL 3634 531 \nL 3634 0 \nL 628 0 \nL 628 4666 \nz\n\" id=\"DejaVuSans-45\" transform=\"scale(0.015625)\"/>\n       <path d=\"M 3513 2113 \nL 3513 0 \nL 2938 0 \nL 2938 2094 \nQ 2938 2591 2744 2837 \nQ 2550 3084 2163 3084 \nQ 1697 3084 1428 2787 \nQ 1159 2491 1159 1978 \nL 1159 0 \nL 581 0 \nL 581 3500 \nL 1159 3500 \nL 1159 2956 \nQ 1366 3272 1645 3428 \nQ 1925 3584 2291 3584 \nQ 2894 3584 3203 3211 \nQ 3513 2838 3513 2113 \nz\n\" id=\"DejaVuSans-6e\" transform=\"scale(0.015625)\"/>\n       <path d=\"M 3597 1894 \nL 3597 1613 \nL 953 1613 \nQ 991 1019 1311 708 \nQ 1631 397 2203 397 \nQ 2534 397 2845 478 \nQ 3156 559 3463 722 \nL 3463 178 \nQ 3153 47 2828 -22 \nQ 2503 -91 2169 -91 \nQ 1331 -91 842 396 \nQ 353 884 353 1716 \nQ 353 2575 817 3079 \nQ 1281 3584 2069 3584 \nQ 2775 3584 3186 3129 \nQ 3597 2675 3597 1894 \nz\nM 3022 2063 \nQ 3016 2534 2758 2815 \nQ 2500 3097 2075 3097 \nQ 1594 3097 1305 2825 \nQ 1016 2553 972 2059 \nL 3022 2063 \nz\n\" id=\"DejaVuSans-65\" transform=\"scale(0.015625)\"/>\n       <path d=\"M 2631 2963 \nQ 2534 3019 2420 3045 \nQ 2306 3072 2169 3072 \nQ 1681 3072 1420 2755 \nQ 1159 2438 1159 1844 \nL 1159 0 \nL 581 0 \nL 581 3500 \nL 1159 3500 \nL 1159 2956 \nQ 1341 3275 1631 3429 \nQ 1922 3584 2338 3584 \nQ 2397 3584 2469 3576 \nQ 2541 3569 2628 3553 \nL 2631 2963 \nz\n\" id=\"DejaVuSans-72\" transform=\"scale(0.015625)\"/>\n       <path d=\"M 2906 1791 \nQ 2906 2416 2648 2759 \nQ 2391 3103 1925 3103 \nQ 1463 3103 1205 2759 \nQ 947 2416 947 1791 \nQ 947 1169 1205 825 \nQ 1463 481 1925 481 \nQ 2391 481 2648 825 \nQ 2906 1169 2906 1791 \nz\nM 3481 434 \nQ 3481 -459 3084 -895 \nQ 2688 -1331 1869 -1331 \nQ 1566 -1331 1297 -1286 \nQ 1028 -1241 775 -1147 \nL 775 -588 \nQ 1028 -725 1275 -790 \nQ 1522 -856 1778 -856 \nQ 2344 -856 2625 -561 \nQ 2906 -266 2906 331 \nL 2906 616 \nQ 2728 306 2450 153 \nQ 2172 0 1784 0 \nQ 1141 0 747 490 \nQ 353 981 353 1791 \nQ 353 2603 747 3093 \nQ 1141 3584 1784 3584 \nQ 2172 3584 2450 3431 \nQ 2728 3278 2906 2969 \nL 2906 3500 \nL 3481 3500 \nL 3481 434 \nz\n\" id=\"DejaVuSans-67\" transform=\"scale(0.015625)\"/>\n       <path d=\"M 2059 -325 \nQ 1816 -950 1584 -1140 \nQ 1353 -1331 966 -1331 \nL 506 -1331 \nL 506 -850 \nL 844 -850 \nQ 1081 -850 1212 -737 \nQ 1344 -625 1503 -206 \nL 1606 56 \nL 191 3500 \nL 800 3500 \nL 1894 763 \nL 2988 3500 \nL 3597 3500 \nL 2059 -325 \nz\n\" id=\"DejaVuSans-79\" transform=\"scale(0.015625)\"/>\n      </defs>\n      <use xlink:href=\"#DejaVuSans-45\"/>\n      <use x=\"63.183594\" xlink:href=\"#DejaVuSans-6e\"/>\n      <use x=\"126.5625\" xlink:href=\"#DejaVuSans-65\"/>\n      <use x=\"188.085938\" xlink:href=\"#DejaVuSans-72\"/>\n      <use x=\"227.449219\" xlink:href=\"#DejaVuSans-67\"/>\n      <use x=\"290.925781\" xlink:href=\"#DejaVuSans-79\"/>\n     </g>\n    </g>\n   </g>\n   <g id=\"matplotlib.axis_2\">\n    <g id=\"ytick_1\">\n     <g id=\"line2d_6\">\n      <defs>\n       <path d=\"M 0 0 \nL -3.5 0 \n\" id=\"mae2b369f34\" style=\"stroke:#000000;stroke-width:0.8;\"/>\n      </defs>\n      <g>\n       <use style=\"stroke:#000000;stroke-width:0.8;\" x=\"58.167188\" xlink:href=\"#mae2b369f34\" y=\"224.64\"/>\n      </g>\n     </g>\n     <g id=\"text_7\">\n      <!-- 0 -->\n      <g transform=\"translate(44.804688 228.439219)scale(0.1 -0.1)\">\n       <use xlink:href=\"#DejaVuSans-30\"/>\n      </g>\n     </g>\n    </g>\n    <g id=\"ytick_2\">\n     <g id=\"line2d_7\">\n      <g>\n       <use style=\"stroke:#000000;stroke-width:0.8;\" x=\"58.167188\" xlink:href=\"#mae2b369f34\" y=\"183.014731\"/>\n      </g>\n     </g>\n     <g id=\"text_8\">\n      <!-- 1000 -->\n      <g transform=\"translate(25.717188 186.81395)scale(0.1 -0.1)\">\n       <defs>\n        <path d=\"M 794 531 \nL 1825 531 \nL 1825 4091 \nL 703 3866 \nL 703 4441 \nL 1819 4666 \nL 2450 4666 \nL 2450 531 \nL 3481 531 \nL 3481 0 \nL 794 0 \nL 794 531 \nz\n\" id=\"DejaVuSans-31\" transform=\"scale(0.015625)\"/>\n       </defs>\n       <use xlink:href=\"#DejaVuSans-31\"/>\n       <use x=\"63.623047\" xlink:href=\"#DejaVuSans-30\"/>\n       <use x=\"127.246094\" xlink:href=\"#DejaVuSans-30\"/>\n       <use x=\"190.869141\" xlink:href=\"#DejaVuSans-30\"/>\n      </g>\n     </g>\n    </g>\n    <g id=\"ytick_3\">\n     <g id=\"line2d_8\">\n      <g>\n       <use style=\"stroke:#000000;stroke-width:0.8;\" x=\"58.167188\" xlink:href=\"#mae2b369f34\" y=\"141.389462\"/>\n      </g>\n     </g>\n     <g id=\"text_9\">\n      <!-- 2000 -->\n      <g transform=\"translate(25.717188 145.18868)scale(0.1 -0.1)\">\n       <use xlink:href=\"#DejaVuSans-32\"/>\n       <use x=\"63.623047\" xlink:href=\"#DejaVuSans-30\"/>\n       <use x=\"127.246094\" xlink:href=\"#DejaVuSans-30\"/>\n       <use x=\"190.869141\" xlink:href=\"#DejaVuSans-30\"/>\n      </g>\n     </g>\n    </g>\n    <g id=\"ytick_4\">\n     <g id=\"line2d_9\">\n      <g>\n       <use style=\"stroke:#000000;stroke-width:0.8;\" x=\"58.167188\" xlink:href=\"#mae2b369f34\" y=\"99.764192\"/>\n      </g>\n     </g>\n     <g id=\"text_10\">\n      <!-- 3000 -->\n      <g transform=\"translate(25.717188 103.563411)scale(0.1 -0.1)\">\n       <defs>\n        <path d=\"M 2597 2516 \nQ 3050 2419 3304 2112 \nQ 3559 1806 3559 1356 \nQ 3559 666 3084 287 \nQ 2609 -91 1734 -91 \nQ 1441 -91 1130 -33 \nQ 819 25 488 141 \nL 488 750 \nQ 750 597 1062 519 \nQ 1375 441 1716 441 \nQ 2309 441 2620 675 \nQ 2931 909 2931 1356 \nQ 2931 1769 2642 2001 \nQ 2353 2234 1838 2234 \nL 1294 2234 \nL 1294 2753 \nL 1863 2753 \nQ 2328 2753 2575 2939 \nQ 2822 3125 2822 3475 \nQ 2822 3834 2567 4026 \nQ 2313 4219 1838 4219 \nQ 1578 4219 1281 4162 \nQ 984 4106 628 3988 \nL 628 4550 \nQ 988 4650 1302 4700 \nQ 1616 4750 1894 4750 \nQ 2613 4750 3031 4423 \nQ 3450 4097 3450 3541 \nQ 3450 3153 3228 2886 \nQ 3006 2619 2597 2516 \nz\n\" id=\"DejaVuSans-33\" transform=\"scale(0.015625)\"/>\n       </defs>\n       <use xlink:href=\"#DejaVuSans-33\"/>\n       <use x=\"63.623047\" xlink:href=\"#DejaVuSans-30\"/>\n       <use x=\"127.246094\" xlink:href=\"#DejaVuSans-30\"/>\n       <use x=\"190.869141\" xlink:href=\"#DejaVuSans-30\"/>\n      </g>\n     </g>\n    </g>\n    <g id=\"ytick_5\">\n     <g id=\"line2d_10\">\n      <g>\n       <use style=\"stroke:#000000;stroke-width:0.8;\" x=\"58.167188\" xlink:href=\"#mae2b369f34\" y=\"58.138923\"/>\n      </g>\n     </g>\n     <g id=\"text_11\">\n      <!-- 4000 -->\n      <g transform=\"translate(25.717188 61.938142)scale(0.1 -0.1)\">\n       <use xlink:href=\"#DejaVuSans-34\"/>\n       <use x=\"63.623047\" xlink:href=\"#DejaVuSans-30\"/>\n       <use x=\"127.246094\" xlink:href=\"#DejaVuSans-30\"/>\n       <use x=\"190.869141\" xlink:href=\"#DejaVuSans-30\"/>\n      </g>\n     </g>\n    </g>\n    <g id=\"ytick_6\">\n     <g id=\"line2d_11\">\n      <g>\n       <use style=\"stroke:#000000;stroke-width:0.8;\" x=\"58.167188\" xlink:href=\"#mae2b369f34\" y=\"16.513654\"/>\n      </g>\n     </g>\n     <g id=\"text_12\">\n      <!-- 5000 -->\n      <g transform=\"translate(25.717188 20.312873)scale(0.1 -0.1)\">\n       <defs>\n        <path d=\"M 691 4666 \nL 3169 4666 \nL 3169 4134 \nL 1269 4134 \nL 1269 2991 \nQ 1406 3038 1543 3061 \nQ 1681 3084 1819 3084 \nQ 2600 3084 3056 2656 \nQ 3513 2228 3513 1497 \nQ 3513 744 3044 326 \nQ 2575 -91 1722 -91 \nQ 1428 -91 1123 -41 \nQ 819 9 494 109 \nL 494 744 \nQ 775 591 1075 516 \nQ 1375 441 1709 441 \nQ 2250 441 2565 725 \nQ 2881 1009 2881 1497 \nQ 2881 1984 2565 2268 \nQ 2250 2553 1709 2553 \nQ 1456 2553 1204 2497 \nQ 953 2441 691 2322 \nL 691 4666 \nz\n\" id=\"DejaVuSans-35\" transform=\"scale(0.015625)\"/>\n       </defs>\n       <use xlink:href=\"#DejaVuSans-35\"/>\n       <use x=\"63.623047\" xlink:href=\"#DejaVuSans-30\"/>\n       <use x=\"127.246094\" xlink:href=\"#DejaVuSans-30\"/>\n       <use x=\"190.869141\" xlink:href=\"#DejaVuSans-30\"/>\n      </g>\n     </g>\n    </g>\n    <g id=\"text_13\">\n     <!-- Frequency -->\n     <g transform=\"translate(18.597656 154.664531)rotate(-90)scale(0.15 -0.15)\">\n      <defs>\n       <path d=\"M 628 4666 \nL 3309 4666 \nL 3309 4134 \nL 1259 4134 \nL 1259 2759 \nL 3109 2759 \nL 3109 2228 \nL 1259 2228 \nL 1259 0 \nL 628 0 \nL 628 4666 \nz\n\" id=\"DejaVuSans-46\" transform=\"scale(0.015625)\"/>\n       <path d=\"M 947 1747 \nQ 947 1113 1208 752 \nQ 1469 391 1925 391 \nQ 2381 391 2643 752 \nQ 2906 1113 2906 1747 \nQ 2906 2381 2643 2742 \nQ 2381 3103 1925 3103 \nQ 1469 3103 1208 2742 \nQ 947 2381 947 1747 \nz\nM 2906 525 \nQ 2725 213 2448 61 \nQ 2172 -91 1784 -91 \nQ 1150 -91 751 415 \nQ 353 922 353 1747 \nQ 353 2572 751 3078 \nQ 1150 3584 1784 3584 \nQ 2172 3584 2448 3432 \nQ 2725 3281 2906 2969 \nL 2906 3500 \nL 3481 3500 \nL 3481 -1331 \nL 2906 -1331 \nL 2906 525 \nz\n\" id=\"DejaVuSans-71\" transform=\"scale(0.015625)\"/>\n       <path d=\"M 544 1381 \nL 544 3500 \nL 1119 3500 \nL 1119 1403 \nQ 1119 906 1312 657 \nQ 1506 409 1894 409 \nQ 2359 409 2629 706 \nQ 2900 1003 2900 1516 \nL 2900 3500 \nL 3475 3500 \nL 3475 0 \nL 2900 0 \nL 2900 538 \nQ 2691 219 2414 64 \nQ 2138 -91 1772 -91 \nQ 1169 -91 856 284 \nQ 544 659 544 1381 \nz\nM 1991 3584 \nL 1991 3584 \nz\n\" id=\"DejaVuSans-75\" transform=\"scale(0.015625)\"/>\n       <path d=\"M 3122 3366 \nL 3122 2828 \nQ 2878 2963 2633 3030 \nQ 2388 3097 2138 3097 \nQ 1578 3097 1268 2742 \nQ 959 2388 959 1747 \nQ 959 1106 1268 751 \nQ 1578 397 2138 397 \nQ 2388 397 2633 464 \nQ 2878 531 3122 666 \nL 3122 134 \nQ 2881 22 2623 -34 \nQ 2366 -91 2075 -91 \nQ 1284 -91 818 406 \nQ 353 903 353 1747 \nQ 353 2603 823 3093 \nQ 1294 3584 2113 3584 \nQ 2378 3584 2631 3529 \nQ 2884 3475 3122 3366 \nz\n\" id=\"DejaVuSans-63\" transform=\"scale(0.015625)\"/>\n      </defs>\n      <use xlink:href=\"#DejaVuSans-46\"/>\n      <use x=\"50.269531\" xlink:href=\"#DejaVuSans-72\"/>\n      <use x=\"89.132812\" xlink:href=\"#DejaVuSans-65\"/>\n      <use x=\"150.65625\" xlink:href=\"#DejaVuSans-71\"/>\n      <use x=\"214.132812\" xlink:href=\"#DejaVuSans-75\"/>\n      <use x=\"277.511719\" xlink:href=\"#DejaVuSans-65\"/>\n      <use x=\"339.035156\" xlink:href=\"#DejaVuSans-6e\"/>\n      <use x=\"402.414062\" xlink:href=\"#DejaVuSans-63\"/>\n      <use x=\"457.394531\" xlink:href=\"#DejaVuSans-79\"/>\n     </g>\n    </g>\n   </g>\n   <g id=\"patch_18\">\n    <path d=\"M 58.167188 224.64 \nL 58.167188 7.2 \n\" style=\"fill:none;stroke:#000000;stroke-linecap:square;stroke-linejoin:miter;stroke-width:0.8;\"/>\n   </g>\n   <g id=\"patch_19\">\n    <path d=\"M 392.967188 224.64 \nL 392.967188 7.2 \n\" style=\"fill:none;stroke:#000000;stroke-linecap:square;stroke-linejoin:miter;stroke-width:0.8;\"/>\n   </g>\n   <g id=\"patch_20\">\n    <path d=\"M 58.167188 224.64 \nL 392.967188 224.64 \n\" style=\"fill:none;stroke:#000000;stroke-linecap:square;stroke-linejoin:miter;stroke-width:0.8;\"/>\n   </g>\n   <g id=\"patch_21\">\n    <path d=\"M 58.167188 7.2 \nL 392.967188 7.2 \n\" style=\"fill:none;stroke:#000000;stroke-linecap:square;stroke-linejoin:miter;stroke-width:0.8;\"/>\n   </g>\n  </g>\n </g>\n <defs>\n  <clipPath id=\"p762173efa6\">\n   <rect height=\"217.44\" width=\"334.8\" x=\"58.167188\" y=\"7.2\"/>\n  </clipPath>\n </defs>\n</svg>\n",
      "text/plain": [
       "<Figure size 432x288 with 1 Axes>"
      ]
     },
     "metadata": {
      "needs_background": "light"
     }
    }
   ],
   "metadata": {}
  },
  {
   "cell_type": "markdown",
   "source": [
    "エネルギーが-5, -3, -1, 4が得られていることがわかります。内訳として、−５, −１の解が相対的に多く得られていることがわかります。\n",
    "\n",
    "ここで得られた解が元の問題に対する最適解かどうかを調べるために、dimodのExactPolySolverを使って確認します。"
   ],
   "metadata": {}
  },
  {
   "cell_type": "code",
   "execution_count": 27,
   "source": [
    "import dimod\n",
    "\n",
    "# 元のHUBOの最適解を確認します。\n",
    "sampleset = dimod.ExactPolySolver().sample_hubo(H=polynomial)\n",
    "print('最適解:', sampleset.first.sample)\n",
    "print('対応するエネルギー:',sampleset.first.energy)"
   ],
   "outputs": [
    {
     "output_type": "stream",
     "name": "stdout",
     "text": [
      "最適解: {1: 0, 2: 0, 3: 1}\n",
      "対応するエネルギー: -5.0\n"
     ]
    }
   ],
   "metadata": {}
  },
  {
   "cell_type": "markdown",
   "source": [
    "元のHUBOに対する最適解は、$(q_{1},q_{2},q_{3})=(0,0,1)$であり、対応するエネルギーは-5.0であることがわかります。\n",
    "また最適解のラティスフォールディングモデルは以下のようになります。\n",
    "\n",
    "\n",
    "<div>\n",
    "    <img src=\"images/optimal_folding_structure.png\" width=\"300\" height=\"300\"><br />\n",
    "    図5： 最適なラティスフォールディング構造（[1]のFigure3(c)の一部）\n",
    "</div>"
   ],
   "metadata": {}
  },
  {
   "cell_type": "markdown",
   "source": [
    "## 4. HUBOによる直接解法と参考論文[1]の結果との比較"
   ],
   "metadata": {}
  },
  {
   "cell_type": "markdown",
   "source": [
    "最後に、HUBOによる直接解法と参考論文[1]の結果との比較します。\n",
    "\n",
    "以下の図６は、参考論文[1]のD-waveの測定結果であり、各エネルギーにおいてタンパク質がとり得るラティスフォールディング構造を示したものです。\n",
    "\n",
    "なお、参考論文[1]では、HUBOをQUBO変換してから、D-waveを用いて解いています。\n",
    "\n",
    "<div>\n",
    "    <img src=\"images/protein_folding_qa_result.png\" width=\"400\" height=\"500\"><br />\n",
    "    図6： D-waveの測定結果で得られたラティスフォールディング構造とエネルギーのパターン（[1]のFigure3(c)）\n",
    "</div>\n",
    "\n",
    "実験３の測定結果は、図の青色の構造であり、今回は青色の構造のみを観察すれば良いです。\n",
    "\n",
    "図6に従い、参考論文[1]のエネルギー測定結果のリストを以下で作成します。"
   ],
   "metadata": {}
  },
  {
   "cell_type": "code",
   "execution_count": 28,
   "source": [
    "import numpy as np\n",
    "\n",
    "energy_qa = np.zeros(num_sa)\n",
    "# エネルギー -5の解は、4164回得られました。\n",
    "energy_qa[:4164] = -5 \n",
    "# エネルギー -3の解は、1317回得られました。\n",
    "energy_qa[4164:4164+1317] = -3\n",
    "# エネルギー -1の解は、４状態の構造について、それぞれ415回, 381回, 1371回, 1552回の計3719回得られました。\n",
    "energy_qa[4164+1317:4164+1317+415+381+1371+1552] = -1\n",
    "\n",
    "# 残りの800回は、エネルギー 0以上の解が得られました。\n",
    "\n",
    "print(energy_qa)"
   ],
   "outputs": [
    {
     "output_type": "stream",
     "name": "stdout",
     "text": [
      "[-5. -5. -5. ...  0.  0.  0.]\n"
     ]
    }
   ],
   "metadata": {}
  },
  {
   "cell_type": "markdown",
   "source": [
    "両者を比較した結果をヒストグラムにすると以下のようになります。"
   ],
   "metadata": {}
  },
  {
   "cell_type": "code",
   "execution_count": 29,
   "source": [
    "plt.hist(energy_hubo, label='HUBO (SA by openjij)', range=(-5, 0), bins=10, alpha=0.5)\n",
    "plt.hist(energy_qa, label='QUBO (QA by D-wave)', range=(-5, 0), bins=10, alpha=0.5)\n",
    "plt.legend()\n",
    "plt.xlabel('Energy')\n",
    "plt.ylabel('Frequency')"
   ],
   "outputs": [
    {
     "output_type": "execute_result",
     "data": {
      "text/plain": [
       "Text(0, 0.5, 'Frequency')"
      ]
     },
     "metadata": {},
     "execution_count": 29
    },
    {
     "output_type": "display_data",
     "data": {
      "image/png": "[encoded data removed]",
      "image/svg+xml": "<?xml version=\"1.0\" encoding=\"utf-8\" standalone=\"no\"?>\n<!DOCTYPE svg PUBLIC \"-//W3C//DTD SVG 1.1//EN\"\n  \"http://www.w3.org/Graphics/SVG/1.1/DTD/svg11.dtd\">\n<svg height=\"262.19625pt\" version=\"1.1\" viewBox=\"0 0 395.328125 262.19625\" width=\"395.328125pt\" xmlns=\"http://www.w3.org/2000/svg\" xmlns:xlink=\"http://www.w3.org/1999/xlink\">\n <metadata>\n  <rdf:RDF xmlns:cc=\"http://creativecommons.org/ns#\" xmlns:dc=\"http://purl.org/dc/elements/1.1/\" xmlns:rdf=\"http://www.w3.org/1999/02/22-rdf-syntax-ns#\">\n   <cc:Work>\n    <dc:type rdf:resource=\"http://purl.org/dc/dcmitype/StillImage\"/>\n    <dc:date>2021-09-22T18:53:17.266420</dc:date>\n    <dc:format>image/svg+xml</dc:format>\n    <dc:creator>\n     <cc:Agent>\n      <dc:title>Matplotlib v3.4.3, https://matplotlib.org/</dc:title>\n     </cc:Agent>\n    </dc:creator>\n   </cc:Work>\n  </rdf:RDF>\n </metadata>\n <defs>\n  <style type=\"text/css\">*{stroke-linecap:butt;stroke-linejoin:round;}</style>\n </defs>\n <g id=\"figure_1\">\n  <g id=\"patch_1\">\n   <path d=\"M 0 262.19625 \nL 395.328125 262.19625 \nL 395.328125 0 \nL 0 0 \nz\n\" style=\"fill:none;\"/>\n  </g>\n  <g id=\"axes_1\">\n   <g id=\"patch_2\">\n    <path d=\"M 53.328125 224.64 \nL 388.128125 224.64 \nL 388.128125 7.2 \nL 53.328125 7.2 \nz\n\" style=\"fill:#ffffff;\"/>\n   </g>\n   <g id=\"patch_3\">\n    <path clip-path=\"url(#pc5ec67ad7e)\" d=\"M 68.546307 224.64 \nL 98.98267 224.64 \nL 98.98267 17.554286 \nL 68.546307 17.554286 \nz\n\" style=\"fill:#1f77b4;opacity:0.5;\"/>\n   </g>\n   <g id=\"patch_4\">\n    <path clip-path=\"url(#pc5ec67ad7e)\" d=\"M 98.98267 224.64 \nL 129.419034 224.64 \nL 129.419034 224.64 \nL 98.98267 224.64 \nz\n\" style=\"fill:#1f77b4;opacity:0.5;\"/>\n   </g>\n   <g id=\"patch_5\">\n    <path clip-path=\"url(#pc5ec67ad7e)\" d=\"M 129.419034 224.64 \nL 159.855398 224.64 \nL 159.855398 224.64 \nL 129.419034 224.64 \nz\n\" style=\"fill:#1f77b4;opacity:0.5;\"/>\n   </g>\n   <g id=\"patch_6\">\n    <path clip-path=\"url(#pc5ec67ad7e)\" d=\"M 159.855398 224.64 \nL 190.291761 224.64 \nL 190.291761 224.64 \nL 159.855398 224.64 \nz\n\" style=\"fill:#1f77b4;opacity:0.5;\"/>\n   </g>\n   <g id=\"patch_7\">\n    <path clip-path=\"url(#pc5ec67ad7e)\" d=\"M 190.291761 224.64 \nL 220.728125 224.64 \nL 220.728125 145.135736 \nL 190.291761 145.135736 \nz\n\" style=\"fill:#1f77b4;opacity:0.5;\"/>\n   </g>\n   <g id=\"patch_8\">\n    <path clip-path=\"url(#pc5ec67ad7e)\" d=\"M 220.728125 224.64 \nL 251.164489 224.64 \nL 251.164489 224.64 \nL 220.728125 224.64 \nz\n\" style=\"fill:#1f77b4;opacity:0.5;\"/>\n   </g>\n   <g id=\"patch_9\">\n    <path clip-path=\"url(#pc5ec67ad7e)\" d=\"M 251.164489 224.64 \nL 281.600852 224.64 \nL 281.600852 224.64 \nL 251.164489 224.64 \nz\n\" style=\"fill:#1f77b4;opacity:0.5;\"/>\n   </g>\n   <g id=\"patch_10\">\n    <path clip-path=\"url(#pc5ec67ad7e)\" d=\"M 281.600852 224.64 \nL 312.037216 224.64 \nL 312.037216 224.64 \nL 281.600852 224.64 \nz\n\" style=\"fill:#1f77b4;opacity:0.5;\"/>\n   </g>\n   <g id=\"patch_11\">\n    <path clip-path=\"url(#pc5ec67ad7e)\" d=\"M 312.037216 224.64 \nL 342.47358 224.64 \nL 342.47358 100.596698 \nL 312.037216 100.596698 \nz\n\" style=\"fill:#1f77b4;opacity:0.5;\"/>\n   </g>\n   <g id=\"patch_12\">\n    <path clip-path=\"url(#pc5ec67ad7e)\" d=\"M 342.47358 224.64 \nL 372.909943 224.64 \nL 372.909943 224.64 \nL 342.47358 224.64 \nz\n\" style=\"fill:#1f77b4;opacity:0.5;\"/>\n   </g>\n   <g id=\"patch_13\">\n    <path clip-path=\"url(#pc5ec67ad7e)\" d=\"M 68.546307 224.64 \nL 98.98267 224.64 \nL 98.98267 51.312379 \nL 68.546307 51.312379 \nz\n\" style=\"fill:#ff7f0e;opacity:0.5;\"/>\n   </g>\n   <g id=\"patch_14\">\n    <path clip-path=\"url(#pc5ec67ad7e)\" d=\"M 98.98267 224.64 \nL 129.419034 224.64 \nL 129.419034 224.64 \nL 98.98267 224.64 \nz\n\" style=\"fill:#ff7f0e;opacity:0.5;\"/>\n   </g>\n   <g id=\"patch_15\">\n    <path clip-path=\"url(#pc5ec67ad7e)\" d=\"M 129.419034 224.64 \nL 159.855398 224.64 \nL 159.855398 224.64 \nL 129.419034 224.64 \nz\n\" style=\"fill:#ff7f0e;opacity:0.5;\"/>\n   </g>\n   <g id=\"patch_16\">\n    <path clip-path=\"url(#pc5ec67ad7e)\" d=\"M 159.855398 224.64 \nL 190.291761 224.64 \nL 190.291761 224.64 \nL 159.855398 224.64 \nz\n\" style=\"fill:#ff7f0e;opacity:0.5;\"/>\n   </g>\n   <g id=\"patch_17\">\n    <path clip-path=\"url(#pc5ec67ad7e)\" d=\"M 190.291761 224.64 \nL 220.728125 224.64 \nL 220.728125 169.81952 \nL 190.291761 169.81952 \nz\n\" style=\"fill:#ff7f0e;opacity:0.5;\"/>\n   </g>\n   <g id=\"patch_18\">\n    <path clip-path=\"url(#pc5ec67ad7e)\" d=\"M 220.728125 224.64 \nL 251.164489 224.64 \nL 251.164489 224.64 \nL 220.728125 224.64 \nz\n\" style=\"fill:#ff7f0e;opacity:0.5;\"/>\n   </g>\n   <g id=\"patch_19\">\n    <path clip-path=\"url(#pc5ec67ad7e)\" d=\"M 251.164489 224.64 \nL 281.600852 224.64 \nL 281.600852 224.64 \nL 251.164489 224.64 \nz\n\" style=\"fill:#ff7f0e;opacity:0.5;\"/>\n   </g>\n   <g id=\"patch_20\">\n    <path clip-path=\"url(#pc5ec67ad7e)\" d=\"M 281.600852 224.64 \nL 312.037216 224.64 \nL 312.037216 224.64 \nL 281.600852 224.64 \nz\n\" style=\"fill:#ff7f0e;opacity:0.5;\"/>\n   </g>\n   <g id=\"patch_21\">\n    <path clip-path=\"url(#pc5ec67ad7e)\" d=\"M 312.037216 224.64 \nL 342.47358 224.64 \nL 342.47358 69.835624 \nL 312.037216 69.835624 \nz\n\" style=\"fill:#ff7f0e;opacity:0.5;\"/>\n   </g>\n   <g id=\"patch_22\">\n    <path clip-path=\"url(#pc5ec67ad7e)\" d=\"M 342.47358 224.64 \nL 372.909943 224.64 \nL 372.909943 191.339785 \nL 342.47358 191.339785 \nz\n\" style=\"fill:#ff7f0e;opacity:0.5;\"/>\n   </g>\n   <g id=\"matplotlib.axis_1\">\n    <g id=\"xtick_1\">\n     <g id=\"line2d_1\">\n      <defs>\n       <path d=\"M 0 0 \nL 0 3.5 \n\" id=\"m0d5a0baac0\" style=\"stroke:#000000;stroke-width:0.8;\"/>\n      </defs>\n      <g>\n       <use style=\"stroke:#000000;stroke-width:0.8;\" x=\"68.546307\" xlink:href=\"#m0d5a0baac0\" y=\"224.64\"/>\n      </g>\n     </g>\n     <g id=\"text_1\">\n      <!-- −5 -->\n      <g transform=\"translate(61.175213 239.238437)scale(0.1 -0.1)\">\n       <defs>\n        <path d=\"M 678 2272 \nL 4684 2272 \nL 4684 1741 \nL 678 1741 \nL 678 2272 \nz\n\" id=\"DejaVuSans-2212\" transform=\"scale(0.015625)\"/>\n        <path d=\"M 691 4666 \nL 3169 4666 \nL 3169 4134 \nL 1269 4134 \nL 1269 2991 \nQ 1406 3038 1543 3061 \nQ 1681 3084 1819 3084 \nQ 2600 3084 3056 2656 \nQ 3513 2228 3513 1497 \nQ 3513 744 3044 326 \nQ 2575 -91 1722 -91 \nQ 1428 -91 1123 -41 \nQ 819 9 494 109 \nL 494 744 \nQ 775 591 1075 516 \nQ 1375 441 1709 441 \nQ 2250 441 2565 725 \nQ 2881 1009 2881 1497 \nQ 2881 1984 2565 2268 \nQ 2250 2553 1709 2553 \nQ 1456 2553 1204 2497 \nQ 953 2441 691 2322 \nL 691 4666 \nz\n\" id=\"DejaVuSans-35\" transform=\"scale(0.015625)\"/>\n       </defs>\n       <use xlink:href=\"#DejaVuSans-2212\"/>\n       <use x=\"83.789062\" xlink:href=\"#DejaVuSans-35\"/>\n      </g>\n     </g>\n    </g>\n    <g id=\"xtick_2\">\n     <g id=\"line2d_2\">\n      <g>\n       <use style=\"stroke:#000000;stroke-width:0.8;\" x=\"129.419034\" xlink:href=\"#m0d5a0baac0\" y=\"224.64\"/>\n      </g>\n     </g>\n     <g id=\"text_2\">\n      <!-- −4 -->\n      <g transform=\"translate(122.04794 239.238437)scale(0.1 -0.1)\">\n       <defs>\n        <path d=\"M 2419 4116 \nL 825 1625 \nL 2419 1625 \nL 2419 4116 \nz\nM 2253 4666 \nL 3047 4666 \nL 3047 1625 \nL 3713 1625 \nL 3713 1100 \nL 3047 1100 \nL 3047 0 \nL 2419 0 \nL 2419 1100 \nL 313 1100 \nL 313 1709 \nL 2253 4666 \nz\n\" id=\"DejaVuSans-34\" transform=\"scale(0.015625)\"/>\n       </defs>\n       <use xlink:href=\"#DejaVuSans-2212\"/>\n       <use x=\"83.789062\" xlink:href=\"#DejaVuSans-34\"/>\n      </g>\n     </g>\n    </g>\n    <g id=\"xtick_3\">\n     <g id=\"line2d_3\">\n      <g>\n       <use style=\"stroke:#000000;stroke-width:0.8;\" x=\"190.291761\" xlink:href=\"#m0d5a0baac0\" y=\"224.64\"/>\n      </g>\n     </g>\n     <g id=\"text_3\">\n      <!-- −3 -->\n      <g transform=\"translate(182.920668 239.238437)scale(0.1 -0.1)\">\n       <defs>\n        <path d=\"M 2597 2516 \nQ 3050 2419 3304 2112 \nQ 3559 1806 3559 1356 \nQ 3559 666 3084 287 \nQ 2609 -91 1734 -91 \nQ 1441 -91 1130 -33 \nQ 819 25 488 141 \nL 488 750 \nQ 750 597 1062 519 \nQ 1375 441 1716 441 \nQ 2309 441 2620 675 \nQ 2931 909 2931 1356 \nQ 2931 1769 2642 2001 \nQ 2353 2234 1838 2234 \nL 1294 2234 \nL 1294 2753 \nL 1863 2753 \nQ 2328 2753 2575 2939 \nQ 2822 3125 2822 3475 \nQ 2822 3834 2567 4026 \nQ 2313 4219 1838 4219 \nQ 1578 4219 1281 4162 \nQ 984 4106 628 3988 \nL 628 4550 \nQ 988 4650 1302 4700 \nQ 1616 4750 1894 4750 \nQ 2613 4750 3031 4423 \nQ 3450 4097 3450 3541 \nQ 3450 3153 3228 2886 \nQ 3006 2619 2597 2516 \nz\n\" id=\"DejaVuSans-33\" transform=\"scale(0.015625)\"/>\n       </defs>\n       <use xlink:href=\"#DejaVuSans-2212\"/>\n       <use x=\"83.789062\" xlink:href=\"#DejaVuSans-33\"/>\n      </g>\n     </g>\n    </g>\n    <g id=\"xtick_4\">\n     <g id=\"line2d_4\">\n      <g>\n       <use style=\"stroke:#000000;stroke-width:0.8;\" x=\"251.164489\" xlink:href=\"#m0d5a0baac0\" y=\"224.64\"/>\n      </g>\n     </g>\n     <g id=\"text_4\">\n      <!-- −2 -->\n      <g transform=\"translate(243.793395 239.238437)scale(0.1 -0.1)\">\n       <defs>\n        <path d=\"M 1228 531 \nL 3431 531 \nL 3431 0 \nL 469 0 \nL 469 531 \nQ 828 903 1448 1529 \nQ 2069 2156 2228 2338 \nQ 2531 2678 2651 2914 \nQ 2772 3150 2772 3378 \nQ 2772 3750 2511 3984 \nQ 2250 4219 1831 4219 \nQ 1534 4219 1204 4116 \nQ 875 4013 500 3803 \nL 500 4441 \nQ 881 4594 1212 4672 \nQ 1544 4750 1819 4750 \nQ 2544 4750 2975 4387 \nQ 3406 4025 3406 3419 \nQ 3406 3131 3298 2873 \nQ 3191 2616 2906 2266 \nQ 2828 2175 2409 1742 \nQ 1991 1309 1228 531 \nz\n\" id=\"DejaVuSans-32\" transform=\"scale(0.015625)\"/>\n       </defs>\n       <use xlink:href=\"#DejaVuSans-2212\"/>\n       <use x=\"83.789062\" xlink:href=\"#DejaVuSans-32\"/>\n      </g>\n     </g>\n    </g>\n    <g id=\"xtick_5\">\n     <g id=\"line2d_5\">\n      <g>\n       <use style=\"stroke:#000000;stroke-width:0.8;\" x=\"312.037216\" xlink:href=\"#m0d5a0baac0\" y=\"224.64\"/>\n      </g>\n     </g>\n     <g id=\"text_5\">\n      <!-- −1 -->\n      <g transform=\"translate(304.666122 239.238437)scale(0.1 -0.1)\">\n       <defs>\n        <path d=\"M 794 531 \nL 1825 531 \nL 1825 4091 \nL 703 3866 \nL 703 4441 \nL 1819 4666 \nL 2450 4666 \nL 2450 531 \nL 3481 531 \nL 3481 0 \nL 794 0 \nL 794 531 \nz\n\" id=\"DejaVuSans-31\" transform=\"scale(0.015625)\"/>\n       </defs>\n       <use xlink:href=\"#DejaVuSans-2212\"/>\n       <use x=\"83.789062\" xlink:href=\"#DejaVuSans-31\"/>\n      </g>\n     </g>\n    </g>\n    <g id=\"xtick_6\">\n     <g id=\"line2d_6\">\n      <g>\n       <use style=\"stroke:#000000;stroke-width:0.8;\" x=\"372.909943\" xlink:href=\"#m0d5a0baac0\" y=\"224.64\"/>\n      </g>\n     </g>\n     <g id=\"text_6\">\n      <!-- 0 -->\n      <g transform=\"translate(369.728693 239.238437)scale(0.1 -0.1)\">\n       <defs>\n        <path d=\"M 2034 4250 \nQ 1547 4250 1301 3770 \nQ 1056 3291 1056 2328 \nQ 1056 1369 1301 889 \nQ 1547 409 2034 409 \nQ 2525 409 2770 889 \nQ 3016 1369 3016 2328 \nQ 3016 3291 2770 3770 \nQ 2525 4250 2034 4250 \nz\nM 2034 4750 \nQ 2819 4750 3233 4129 \nQ 3647 3509 3647 2328 \nQ 3647 1150 3233 529 \nQ 2819 -91 2034 -91 \nQ 1250 -91 836 529 \nQ 422 1150 422 2328 \nQ 422 3509 836 4129 \nQ 1250 4750 2034 4750 \nz\n\" id=\"DejaVuSans-30\" transform=\"scale(0.015625)\"/>\n       </defs>\n       <use xlink:href=\"#DejaVuSans-30\"/>\n      </g>\n     </g>\n    </g>\n    <g id=\"text_7\">\n     <!-- Energy -->\n     <g transform=\"translate(203.221875 252.916562)scale(0.1 -0.1)\">\n      <defs>\n       <path d=\"M 628 4666 \nL 3578 4666 \nL 3578 4134 \nL 1259 4134 \nL 1259 2753 \nL 3481 2753 \nL 3481 2222 \nL 1259 2222 \nL 1259 531 \nL 3634 531 \nL 3634 0 \nL 628 0 \nL 628 4666 \nz\n\" id=\"DejaVuSans-45\" transform=\"scale(0.015625)\"/>\n       <path d=\"M 3513 2113 \nL 3513 0 \nL 2938 0 \nL 2938 2094 \nQ 2938 2591 2744 2837 \nQ 2550 3084 2163 3084 \nQ 1697 3084 1428 2787 \nQ 1159 2491 1159 1978 \nL 1159 0 \nL 581 0 \nL 581 3500 \nL 1159 3500 \nL 1159 2956 \nQ 1366 3272 1645 3428 \nQ 1925 3584 2291 3584 \nQ 2894 3584 3203 3211 \nQ 3513 2838 3513 2113 \nz\n\" id=\"DejaVuSans-6e\" transform=\"scale(0.015625)\"/>\n       <path d=\"M 3597 1894 \nL 3597 1613 \nL 953 1613 \nQ 991 1019 1311 708 \nQ 1631 397 2203 397 \nQ 2534 397 2845 478 \nQ 3156 559 3463 722 \nL 3463 178 \nQ 3153 47 2828 -22 \nQ 2503 -91 2169 -91 \nQ 1331 -91 842 396 \nQ 353 884 353 1716 \nQ 353 2575 817 3079 \nQ 1281 3584 2069 3584 \nQ 2775 3584 3186 3129 \nQ 3597 2675 3597 1894 \nz\nM 3022 2063 \nQ 3016 2534 2758 2815 \nQ 2500 3097 2075 3097 \nQ 1594 3097 1305 2825 \nQ 1016 2553 972 2059 \nL 3022 2063 \nz\n\" id=\"DejaVuSans-65\" transform=\"scale(0.015625)\"/>\n       <path d=\"M 2631 2963 \nQ 2534 3019 2420 3045 \nQ 2306 3072 2169 3072 \nQ 1681 3072 1420 2755 \nQ 1159 2438 1159 1844 \nL 1159 0 \nL 581 0 \nL 581 3500 \nL 1159 3500 \nL 1159 2956 \nQ 1341 3275 1631 3429 \nQ 1922 3584 2338 3584 \nQ 2397 3584 2469 3576 \nQ 2541 3569 2628 3553 \nL 2631 2963 \nz\n\" id=\"DejaVuSans-72\" transform=\"scale(0.015625)\"/>\n       <path d=\"M 2906 1791 \nQ 2906 2416 2648 2759 \nQ 2391 3103 1925 3103 \nQ 1463 3103 1205 2759 \nQ 947 2416 947 1791 \nQ 947 1169 1205 825 \nQ 1463 481 1925 481 \nQ 2391 481 2648 825 \nQ 2906 1169 2906 1791 \nz\nM 3481 434 \nQ 3481 -459 3084 -895 \nQ 2688 -1331 1869 -1331 \nQ 1566 -1331 1297 -1286 \nQ 1028 -1241 775 -1147 \nL 775 -588 \nQ 1028 -725 1275 -790 \nQ 1522 -856 1778 -856 \nQ 2344 -856 2625 -561 \nQ 2906 -266 2906 331 \nL 2906 616 \nQ 2728 306 2450 153 \nQ 2172 0 1784 0 \nQ 1141 0 747 490 \nQ 353 981 353 1791 \nQ 353 2603 747 3093 \nQ 1141 3584 1784 3584 \nQ 2172 3584 2450 3431 \nQ 2728 3278 2906 2969 \nL 2906 3500 \nL 3481 3500 \nL 3481 434 \nz\n\" id=\"DejaVuSans-67\" transform=\"scale(0.015625)\"/>\n       <path d=\"M 2059 -325 \nQ 1816 -950 1584 -1140 \nQ 1353 -1331 966 -1331 \nL 506 -1331 \nL 506 -850 \nL 844 -850 \nQ 1081 -850 1212 -737 \nQ 1344 -625 1503 -206 \nL 1606 56 \nL 191 3500 \nL 800 3500 \nL 1894 763 \nL 2988 3500 \nL 3597 3500 \nL 2059 -325 \nz\n\" id=\"DejaVuSans-79\" transform=\"scale(0.015625)\"/>\n      </defs>\n      <use xlink:href=\"#DejaVuSans-45\"/>\n      <use x=\"63.183594\" xlink:href=\"#DejaVuSans-6e\"/>\n      <use x=\"126.5625\" xlink:href=\"#DejaVuSans-65\"/>\n      <use x=\"188.085938\" xlink:href=\"#DejaVuSans-72\"/>\n      <use x=\"227.449219\" xlink:href=\"#DejaVuSans-67\"/>\n      <use x=\"290.925781\" xlink:href=\"#DejaVuSans-79\"/>\n     </g>\n    </g>\n   </g>\n   <g id=\"matplotlib.axis_2\">\n    <g id=\"ytick_1\">\n     <g id=\"line2d_7\">\n      <defs>\n       <path d=\"M 0 0 \nL -3.5 0 \n\" id=\"m263a034c30\" style=\"stroke:#000000;stroke-width:0.8;\"/>\n      </defs>\n      <g>\n       <use style=\"stroke:#000000;stroke-width:0.8;\" x=\"53.328125\" xlink:href=\"#m263a034c30\" y=\"224.64\"/>\n      </g>\n     </g>\n     <g id=\"text_8\">\n      <!-- 0 -->\n      <g transform=\"translate(39.965625 228.439219)scale(0.1 -0.1)\">\n       <use xlink:href=\"#DejaVuSans-30\"/>\n      </g>\n     </g>\n    </g>\n    <g id=\"ytick_2\">\n     <g id=\"line2d_8\">\n      <g>\n       <use style=\"stroke:#000000;stroke-width:0.8;\" x=\"53.328125\" xlink:href=\"#m263a034c30\" y=\"183.014731\"/>\n      </g>\n     </g>\n     <g id=\"text_9\">\n      <!-- 1000 -->\n      <g transform=\"translate(20.878125 186.81395)scale(0.1 -0.1)\">\n       <use xlink:href=\"#DejaVuSans-31\"/>\n       <use x=\"63.623047\" xlink:href=\"#DejaVuSans-30\"/>\n       <use x=\"127.246094\" xlink:href=\"#DejaVuSans-30\"/>\n       <use x=\"190.869141\" xlink:href=\"#DejaVuSans-30\"/>\n      </g>\n     </g>\n    </g>\n    <g id=\"ytick_3\">\n     <g id=\"line2d_9\">\n      <g>\n       <use style=\"stroke:#000000;stroke-width:0.8;\" x=\"53.328125\" xlink:href=\"#m263a034c30\" y=\"141.389462\"/>\n      </g>\n     </g>\n     <g id=\"text_10\">\n      <!-- 2000 -->\n      <g transform=\"translate(20.878125 145.18868)scale(0.1 -0.1)\">\n       <use xlink:href=\"#DejaVuSans-32\"/>\n       <use x=\"63.623047\" xlink:href=\"#DejaVuSans-30\"/>\n       <use x=\"127.246094\" xlink:href=\"#DejaVuSans-30\"/>\n       <use x=\"190.869141\" xlink:href=\"#DejaVuSans-30\"/>\n      </g>\n     </g>\n    </g>\n    <g id=\"ytick_4\">\n     <g id=\"line2d_10\">\n      <g>\n       <use style=\"stroke:#000000;stroke-width:0.8;\" x=\"53.328125\" xlink:href=\"#m263a034c30\" y=\"99.764192\"/>\n      </g>\n     </g>\n     <g id=\"text_11\">\n      <!-- 3000 -->\n      <g transform=\"translate(20.878125 103.563411)scale(0.1 -0.1)\">\n       <use xlink:href=\"#DejaVuSans-33\"/>\n       <use x=\"63.623047\" xlink:href=\"#DejaVuSans-30\"/>\n       <use x=\"127.246094\" xlink:href=\"#DejaVuSans-30\"/>\n       <use x=\"190.869141\" xlink:href=\"#DejaVuSans-30\"/>\n      </g>\n     </g>\n    </g>\n    <g id=\"ytick_5\">\n     <g id=\"line2d_11\">\n      <g>\n       <use style=\"stroke:#000000;stroke-width:0.8;\" x=\"53.328125\" xlink:href=\"#m263a034c30\" y=\"58.138923\"/>\n      </g>\n     </g>\n     <g id=\"text_12\">\n      <!-- 4000 -->\n      <g transform=\"translate(20.878125 61.938142)scale(0.1 -0.1)\">\n       <use xlink:href=\"#DejaVuSans-34\"/>\n       <use x=\"63.623047\" xlink:href=\"#DejaVuSans-30\"/>\n       <use x=\"127.246094\" xlink:href=\"#DejaVuSans-30\"/>\n       <use x=\"190.869141\" xlink:href=\"#DejaVuSans-30\"/>\n      </g>\n     </g>\n    </g>\n    <g id=\"ytick_6\">\n     <g id=\"line2d_12\">\n      <g>\n       <use style=\"stroke:#000000;stroke-width:0.8;\" x=\"53.328125\" xlink:href=\"#m263a034c30\" y=\"16.513654\"/>\n      </g>\n     </g>\n     <g id=\"text_13\">\n      <!-- 5000 -->\n      <g transform=\"translate(20.878125 20.312873)scale(0.1 -0.1)\">\n       <use xlink:href=\"#DejaVuSans-35\"/>\n       <use x=\"63.623047\" xlink:href=\"#DejaVuSans-30\"/>\n       <use x=\"127.246094\" xlink:href=\"#DejaVuSans-30\"/>\n       <use x=\"190.869141\" xlink:href=\"#DejaVuSans-30\"/>\n      </g>\n     </g>\n    </g>\n    <g id=\"text_14\">\n     <!-- Frequency -->\n     <g transform=\"translate(14.798438 141.749687)rotate(-90)scale(0.1 -0.1)\">\n      <defs>\n       <path d=\"M 628 4666 \nL 3309 4666 \nL 3309 4134 \nL 1259 4134 \nL 1259 2759 \nL 3109 2759 \nL 3109 2228 \nL 1259 2228 \nL 1259 0 \nL 628 0 \nL 628 4666 \nz\n\" id=\"DejaVuSans-46\" transform=\"scale(0.015625)\"/>\n       <path d=\"M 947 1747 \nQ 947 1113 1208 752 \nQ 1469 391 1925 391 \nQ 2381 391 2643 752 \nQ 2906 1113 2906 1747 \nQ 2906 2381 2643 2742 \nQ 2381 3103 1925 3103 \nQ 1469 3103 1208 2742 \nQ 947 2381 947 1747 \nz\nM 2906 525 \nQ 2725 213 2448 61 \nQ 2172 -91 1784 -91 \nQ 1150 -91 751 415 \nQ 353 922 353 1747 \nQ 353 2572 751 3078 \nQ 1150 3584 1784 3584 \nQ 2172 3584 2448 3432 \nQ 2725 3281 2906 2969 \nL 2906 3500 \nL 3481 3500 \nL 3481 -1331 \nL 2906 -1331 \nL 2906 525 \nz\n\" id=\"DejaVuSans-71\" transform=\"scale(0.015625)\"/>\n       <path d=\"M 544 1381 \nL 544 3500 \nL 1119 3500 \nL 1119 1403 \nQ 1119 906 1312 657 \nQ 1506 409 1894 409 \nQ 2359 409 2629 706 \nQ 2900 1003 2900 1516 \nL 2900 3500 \nL 3475 3500 \nL 3475 0 \nL 2900 0 \nL 2900 538 \nQ 2691 219 2414 64 \nQ 2138 -91 1772 -91 \nQ 1169 -91 856 284 \nQ 544 659 544 1381 \nz\nM 1991 3584 \nL 1991 3584 \nz\n\" id=\"DejaVuSans-75\" transform=\"scale(0.015625)\"/>\n       <path d=\"M 3122 3366 \nL 3122 2828 \nQ 2878 2963 2633 3030 \nQ 2388 3097 2138 3097 \nQ 1578 3097 1268 2742 \nQ 959 2388 959 1747 \nQ 959 1106 1268 751 \nQ 1578 397 2138 397 \nQ 2388 397 2633 464 \nQ 2878 531 3122 666 \nL 3122 134 \nQ 2881 22 2623 -34 \nQ 2366 -91 2075 -91 \nQ 1284 -91 818 406 \nQ 353 903 353 1747 \nQ 353 2603 823 3093 \nQ 1294 3584 2113 3584 \nQ 2378 3584 2631 3529 \nQ 2884 3475 3122 3366 \nz\n\" id=\"DejaVuSans-63\" transform=\"scale(0.015625)\"/>\n      </defs>\n      <use xlink:href=\"#DejaVuSans-46\"/>\n      <use x=\"50.269531\" xlink:href=\"#DejaVuSans-72\"/>\n      <use x=\"89.132812\" xlink:href=\"#DejaVuSans-65\"/>\n      <use x=\"150.65625\" xlink:href=\"#DejaVuSans-71\"/>\n      <use x=\"214.132812\" xlink:href=\"#DejaVuSans-75\"/>\n      <use x=\"277.511719\" xlink:href=\"#DejaVuSans-65\"/>\n      <use x=\"339.035156\" xlink:href=\"#DejaVuSans-6e\"/>\n      <use x=\"402.414062\" xlink:href=\"#DejaVuSans-63\"/>\n      <use x=\"457.394531\" xlink:href=\"#DejaVuSans-79\"/>\n     </g>\n    </g>\n   </g>\n   <g id=\"patch_23\">\n    <path d=\"M 53.328125 224.64 \nL 53.328125 7.2 \n\" style=\"fill:none;stroke:#000000;stroke-linecap:square;stroke-linejoin:miter;stroke-width:0.8;\"/>\n   </g>\n   <g id=\"patch_24\">\n    <path d=\"M 388.128125 224.64 \nL 388.128125 7.2 \n\" style=\"fill:none;stroke:#000000;stroke-linecap:square;stroke-linejoin:miter;stroke-width:0.8;\"/>\n   </g>\n   <g id=\"patch_25\">\n    <path d=\"M 53.328125 224.64 \nL 388.128125 224.64 \n\" style=\"fill:none;stroke:#000000;stroke-linecap:square;stroke-linejoin:miter;stroke-width:0.8;\"/>\n   </g>\n   <g id=\"patch_26\">\n    <path d=\"M 53.328125 7.2 \nL 388.128125 7.2 \n\" style=\"fill:none;stroke:#000000;stroke-linecap:square;stroke-linejoin:miter;stroke-width:0.8;\"/>\n   </g>\n   <g id=\"legend_1\">\n    <g id=\"patch_27\">\n     <path d=\"M 237.376563 44.55625 \nL 381.128125 44.55625 \nQ 383.128125 44.55625 383.128125 42.55625 \nL 383.128125 14.2 \nQ 383.128125 12.2 381.128125 12.2 \nL 237.376563 12.2 \nQ 235.376563 12.2 235.376563 14.2 \nL 235.376563 42.55625 \nQ 235.376563 44.55625 237.376563 44.55625 \nz\n\" style=\"fill:#ffffff;opacity:0.8;stroke:#cccccc;stroke-linejoin:miter;\"/>\n    </g>\n    <g id=\"patch_28\">\n     <path d=\"M 239.376563 23.798437 \nL 259.376562 23.798437 \nL 259.376562 16.798437 \nL 239.376563 16.798437 \nz\n\" style=\"fill:#1f77b4;opacity:0.5;\"/>\n    </g>\n    <g id=\"text_15\">\n     <!-- HUBO (SA by openjij) -->\n     <g transform=\"translate(267.376562 23.798437)scale(0.1 -0.1)\">\n      <defs>\n       <path d=\"M 628 4666 \nL 1259 4666 \nL 1259 2753 \nL 3553 2753 \nL 3553 4666 \nL 4184 4666 \nL 4184 0 \nL 3553 0 \nL 3553 2222 \nL 1259 2222 \nL 1259 0 \nL 628 0 \nL 628 4666 \nz\n\" id=\"DejaVuSans-48\" transform=\"scale(0.015625)\"/>\n       <path d=\"M 556 4666 \nL 1191 4666 \nL 1191 1831 \nQ 1191 1081 1462 751 \nQ 1734 422 2344 422 \nQ 2950 422 3222 751 \nQ 3494 1081 3494 1831 \nL 3494 4666 \nL 4128 4666 \nL 4128 1753 \nQ 4128 841 3676 375 \nQ 3225 -91 2344 -91 \nQ 1459 -91 1007 375 \nQ 556 841 556 1753 \nL 556 4666 \nz\n\" id=\"DejaVuSans-55\" transform=\"scale(0.015625)\"/>\n       <path d=\"M 1259 2228 \nL 1259 519 \nL 2272 519 \nQ 2781 519 3026 730 \nQ 3272 941 3272 1375 \nQ 3272 1813 3026 2020 \nQ 2781 2228 2272 2228 \nL 1259 2228 \nz\nM 1259 4147 \nL 1259 2741 \nL 2194 2741 \nQ 2656 2741 2882 2914 \nQ 3109 3088 3109 3444 \nQ 3109 3797 2882 3972 \nQ 2656 4147 2194 4147 \nL 1259 4147 \nz\nM 628 4666 \nL 2241 4666 \nQ 2963 4666 3353 4366 \nQ 3744 4066 3744 3513 \nQ 3744 3084 3544 2831 \nQ 3344 2578 2956 2516 \nQ 3422 2416 3680 2098 \nQ 3938 1781 3938 1306 \nQ 3938 681 3513 340 \nQ 3088 0 2303 0 \nL 628 0 \nL 628 4666 \nz\n\" id=\"DejaVuSans-42\" transform=\"scale(0.015625)\"/>\n       <path d=\"M 2522 4238 \nQ 1834 4238 1429 3725 \nQ 1025 3213 1025 2328 \nQ 1025 1447 1429 934 \nQ 1834 422 2522 422 \nQ 3209 422 3611 934 \nQ 4013 1447 4013 2328 \nQ 4013 3213 3611 3725 \nQ 3209 4238 2522 4238 \nz\nM 2522 4750 \nQ 3503 4750 4090 4092 \nQ 4678 3434 4678 2328 \nQ 4678 1225 4090 567 \nQ 3503 -91 2522 -91 \nQ 1538 -91 948 565 \nQ 359 1222 359 2328 \nQ 359 3434 948 4092 \nQ 1538 4750 2522 4750 \nz\n\" id=\"DejaVuSans-4f\" transform=\"scale(0.015625)\"/>\n       <path id=\"DejaVuSans-20\" transform=\"scale(0.015625)\"/>\n       <path d=\"M 1984 4856 \nQ 1566 4138 1362 3434 \nQ 1159 2731 1159 2009 \nQ 1159 1288 1364 580 \nQ 1569 -128 1984 -844 \nL 1484 -844 \nQ 1016 -109 783 600 \nQ 550 1309 550 2009 \nQ 550 2706 781 3412 \nQ 1013 4119 1484 4856 \nL 1984 4856 \nz\n\" id=\"DejaVuSans-28\" transform=\"scale(0.015625)\"/>\n       <path d=\"M 3425 4513 \nL 3425 3897 \nQ 3066 4069 2747 4153 \nQ 2428 4238 2131 4238 \nQ 1616 4238 1336 4038 \nQ 1056 3838 1056 3469 \nQ 1056 3159 1242 3001 \nQ 1428 2844 1947 2747 \nL 2328 2669 \nQ 3034 2534 3370 2195 \nQ 3706 1856 3706 1288 \nQ 3706 609 3251 259 \nQ 2797 -91 1919 -91 \nQ 1588 -91 1214 -16 \nQ 841 59 441 206 \nL 441 856 \nQ 825 641 1194 531 \nQ 1563 422 1919 422 \nQ 2459 422 2753 634 \nQ 3047 847 3047 1241 \nQ 3047 1584 2836 1778 \nQ 2625 1972 2144 2069 \nL 1759 2144 \nQ 1053 2284 737 2584 \nQ 422 2884 422 3419 \nQ 422 4038 858 4394 \nQ 1294 4750 2059 4750 \nQ 2388 4750 2728 4690 \nQ 3069 4631 3425 4513 \nz\n\" id=\"DejaVuSans-53\" transform=\"scale(0.015625)\"/>\n       <path d=\"M 2188 4044 \nL 1331 1722 \nL 3047 1722 \nL 2188 4044 \nz\nM 1831 4666 \nL 2547 4666 \nL 4325 0 \nL 3669 0 \nL 3244 1197 \nL 1141 1197 \nL 716 0 \nL 50 0 \nL 1831 4666 \nz\n\" id=\"DejaVuSans-41\" transform=\"scale(0.015625)\"/>\n       <path d=\"M 3116 1747 \nQ 3116 2381 2855 2742 \nQ 2594 3103 2138 3103 \nQ 1681 3103 1420 2742 \nQ 1159 2381 1159 1747 \nQ 1159 1113 1420 752 \nQ 1681 391 2138 391 \nQ 2594 391 2855 752 \nQ 3116 1113 3116 1747 \nz\nM 1159 2969 \nQ 1341 3281 1617 3432 \nQ 1894 3584 2278 3584 \nQ 2916 3584 3314 3078 \nQ 3713 2572 3713 1747 \nQ 3713 922 3314 415 \nQ 2916 -91 2278 -91 \nQ 1894 -91 1617 61 \nQ 1341 213 1159 525 \nL 1159 0 \nL 581 0 \nL 581 4863 \nL 1159 4863 \nL 1159 2969 \nz\n\" id=\"DejaVuSans-62\" transform=\"scale(0.015625)\"/>\n       <path d=\"M 1959 3097 \nQ 1497 3097 1228 2736 \nQ 959 2375 959 1747 \nQ 959 1119 1226 758 \nQ 1494 397 1959 397 \nQ 2419 397 2687 759 \nQ 2956 1122 2956 1747 \nQ 2956 2369 2687 2733 \nQ 2419 3097 1959 3097 \nz\nM 1959 3584 \nQ 2709 3584 3137 3096 \nQ 3566 2609 3566 1747 \nQ 3566 888 3137 398 \nQ 2709 -91 1959 -91 \nQ 1206 -91 779 398 \nQ 353 888 353 1747 \nQ 353 2609 779 3096 \nQ 1206 3584 1959 3584 \nz\n\" id=\"DejaVuSans-6f\" transform=\"scale(0.015625)\"/>\n       <path d=\"M 1159 525 \nL 1159 -1331 \nL 581 -1331 \nL 581 3500 \nL 1159 3500 \nL 1159 2969 \nQ 1341 3281 1617 3432 \nQ 1894 3584 2278 3584 \nQ 2916 3584 3314 3078 \nQ 3713 2572 3713 1747 \nQ 3713 922 3314 415 \nQ 2916 -91 2278 -91 \nQ 1894 -91 1617 61 \nQ 1341 213 1159 525 \nz\nM 3116 1747 \nQ 3116 2381 2855 2742 \nQ 2594 3103 2138 3103 \nQ 1681 3103 1420 2742 \nQ 1159 2381 1159 1747 \nQ 1159 1113 1420 752 \nQ 1681 391 2138 391 \nQ 2594 391 2855 752 \nQ 3116 1113 3116 1747 \nz\n\" id=\"DejaVuSans-70\" transform=\"scale(0.015625)\"/>\n       <path d=\"M 603 3500 \nL 1178 3500 \nL 1178 -63 \nQ 1178 -731 923 -1031 \nQ 669 -1331 103 -1331 \nL -116 -1331 \nL -116 -844 \nL 38 -844 \nQ 366 -844 484 -692 \nQ 603 -541 603 -63 \nL 603 3500 \nz\nM 603 4863 \nL 1178 4863 \nL 1178 4134 \nL 603 4134 \nL 603 4863 \nz\n\" id=\"DejaVuSans-6a\" transform=\"scale(0.015625)\"/>\n       <path d=\"M 603 3500 \nL 1178 3500 \nL 1178 0 \nL 603 0 \nL 603 3500 \nz\nM 603 4863 \nL 1178 4863 \nL 1178 4134 \nL 603 4134 \nL 603 4863 \nz\n\" id=\"DejaVuSans-69\" transform=\"scale(0.015625)\"/>\n       <path d=\"M 513 4856 \nL 1013 4856 \nQ 1481 4119 1714 3412 \nQ 1947 2706 1947 2009 \nQ 1947 1309 1714 600 \nQ 1481 -109 1013 -844 \nL 513 -844 \nQ 928 -128 1133 580 \nQ 1338 1288 1338 2009 \nQ 1338 2731 1133 3434 \nQ 928 4138 513 4856 \nz\n\" id=\"DejaVuSans-29\" transform=\"scale(0.015625)\"/>\n      </defs>\n      <use xlink:href=\"#DejaVuSans-48\"/>\n      <use x=\"75.195312\" xlink:href=\"#DejaVuSans-55\"/>\n      <use x=\"148.388672\" xlink:href=\"#DejaVuSans-42\"/>\n      <use x=\"215.242188\" xlink:href=\"#DejaVuSans-4f\"/>\n      <use x=\"293.953125\" xlink:href=\"#DejaVuSans-20\"/>\n      <use x=\"325.740234\" xlink:href=\"#DejaVuSans-28\"/>\n      <use x=\"364.753906\" xlink:href=\"#DejaVuSans-53\"/>\n      <use x=\"430.105469\" xlink:href=\"#DejaVuSans-41\"/>\n      <use x=\"498.513672\" xlink:href=\"#DejaVuSans-20\"/>\n      <use x=\"530.300781\" xlink:href=\"#DejaVuSans-62\"/>\n      <use x=\"593.777344\" xlink:href=\"#DejaVuSans-79\"/>\n      <use x=\"652.957031\" xlink:href=\"#DejaVuSans-20\"/>\n      <use x=\"684.744141\" xlink:href=\"#DejaVuSans-6f\"/>\n      <use x=\"745.925781\" xlink:href=\"#DejaVuSans-70\"/>\n      <use x=\"809.402344\" xlink:href=\"#DejaVuSans-65\"/>\n      <use x=\"870.925781\" xlink:href=\"#DejaVuSans-6e\"/>\n      <use x=\"934.304688\" xlink:href=\"#DejaVuSans-6a\"/>\n      <use x=\"962.087891\" xlink:href=\"#DejaVuSans-69\"/>\n      <use x=\"989.871094\" xlink:href=\"#DejaVuSans-6a\"/>\n      <use x=\"1017.654297\" xlink:href=\"#DejaVuSans-29\"/>\n     </g>\n    </g>\n    <g id=\"patch_29\">\n     <path d=\"M 239.376563 38.476562 \nL 259.376562 38.476562 \nL 259.376562 31.476562 \nL 239.376563 31.476562 \nz\n\" style=\"fill:#ff7f0e;opacity:0.5;\"/>\n    </g>\n    <g id=\"text_16\">\n     <!-- QUBO (QA by D-wave) -->\n     <g transform=\"translate(267.376562 38.476562)scale(0.1 -0.1)\">\n      <defs>\n       <path d=\"M 2522 4238 \nQ 1834 4238 1429 3725 \nQ 1025 3213 1025 2328 \nQ 1025 1447 1429 934 \nQ 1834 422 2522 422 \nQ 3209 422 3611 934 \nQ 4013 1447 4013 2328 \nQ 4013 3213 3611 3725 \nQ 3209 4238 2522 4238 \nz\nM 3406 84 \nL 4238 -825 \nL 3475 -825 \nL 2784 -78 \nQ 2681 -84 2626 -87 \nQ 2572 -91 2522 -91 \nQ 1538 -91 948 567 \nQ 359 1225 359 2328 \nQ 359 3434 948 4092 \nQ 1538 4750 2522 4750 \nQ 3503 4750 4090 4092 \nQ 4678 3434 4678 2328 \nQ 4678 1516 4351 937 \nQ 4025 359 3406 84 \nz\n\" id=\"DejaVuSans-51\" transform=\"scale(0.015625)\"/>\n       <path d=\"M 1259 4147 \nL 1259 519 \nL 2022 519 \nQ 2988 519 3436 956 \nQ 3884 1394 3884 2338 \nQ 3884 3275 3436 3711 \nQ 2988 4147 2022 4147 \nL 1259 4147 \nz\nM 628 4666 \nL 1925 4666 \nQ 3281 4666 3915 4102 \nQ 4550 3538 4550 2338 \nQ 4550 1131 3912 565 \nQ 3275 0 1925 0 \nL 628 0 \nL 628 4666 \nz\n\" id=\"DejaVuSans-44\" transform=\"scale(0.015625)\"/>\n       <path d=\"M 313 2009 \nL 1997 2009 \nL 1997 1497 \nL 313 1497 \nL 313 2009 \nz\n\" id=\"DejaVuSans-2d\" transform=\"scale(0.015625)\"/>\n       <path d=\"M 269 3500 \nL 844 3500 \nL 1563 769 \nL 2278 3500 \nL 2956 3500 \nL 3675 769 \nL 4391 3500 \nL 4966 3500 \nL 4050 0 \nL 3372 0 \nL 2619 2869 \nL 1863 0 \nL 1184 0 \nL 269 3500 \nz\n\" id=\"DejaVuSans-77\" transform=\"scale(0.015625)\"/>\n       <path d=\"M 2194 1759 \nQ 1497 1759 1228 1600 \nQ 959 1441 959 1056 \nQ 959 750 1161 570 \nQ 1363 391 1709 391 \nQ 2188 391 2477 730 \nQ 2766 1069 2766 1631 \nL 2766 1759 \nL 2194 1759 \nz\nM 3341 1997 \nL 3341 0 \nL 2766 0 \nL 2766 531 \nQ 2569 213 2275 61 \nQ 1981 -91 1556 -91 \nQ 1019 -91 701 211 \nQ 384 513 384 1019 \nQ 384 1609 779 1909 \nQ 1175 2209 1959 2209 \nL 2766 2209 \nL 2766 2266 \nQ 2766 2663 2505 2880 \nQ 2244 3097 1772 3097 \nQ 1472 3097 1187 3025 \nQ 903 2953 641 2809 \nL 641 3341 \nQ 956 3463 1253 3523 \nQ 1550 3584 1831 3584 \nQ 2591 3584 2966 3190 \nQ 3341 2797 3341 1997 \nz\n\" id=\"DejaVuSans-61\" transform=\"scale(0.015625)\"/>\n       <path d=\"M 191 3500 \nL 800 3500 \nL 1894 563 \nL 2988 3500 \nL 3597 3500 \nL 2284 0 \nL 1503 0 \nL 191 3500 \nz\n\" id=\"DejaVuSans-76\" transform=\"scale(0.015625)\"/>\n      </defs>\n      <use xlink:href=\"#DejaVuSans-51\"/>\n      <use x=\"78.710938\" xlink:href=\"#DejaVuSans-55\"/>\n      <use x=\"151.904297\" xlink:href=\"#DejaVuSans-42\"/>\n      <use x=\"218.757812\" xlink:href=\"#DejaVuSans-4f\"/>\n      <use x=\"297.46875\" xlink:href=\"#DejaVuSans-20\"/>\n      <use x=\"329.255859\" xlink:href=\"#DejaVuSans-28\"/>\n      <use x=\"368.269531\" xlink:href=\"#DejaVuSans-51\"/>\n      <use x=\"446.980469\" xlink:href=\"#DejaVuSans-41\"/>\n      <use x=\"515.388672\" xlink:href=\"#DejaVuSans-20\"/>\n      <use x=\"547.175781\" xlink:href=\"#DejaVuSans-62\"/>\n      <use x=\"610.652344\" xlink:href=\"#DejaVuSans-79\"/>\n      <use x=\"669.832031\" xlink:href=\"#DejaVuSans-20\"/>\n      <use x=\"701.619141\" xlink:href=\"#DejaVuSans-44\"/>\n      <use x=\"778.621094\" xlink:href=\"#DejaVuSans-2d\"/>\n      <use x=\"814.705078\" xlink:href=\"#DejaVuSans-77\"/>\n      <use x=\"896.492188\" xlink:href=\"#DejaVuSans-61\"/>\n      <use x=\"957.771484\" xlink:href=\"#DejaVuSans-76\"/>\n      <use x=\"1016.951172\" xlink:href=\"#DejaVuSans-65\"/>\n      <use x=\"1078.474609\" xlink:href=\"#DejaVuSans-29\"/>\n     </g>\n    </g>\n   </g>\n  </g>\n </g>\n <defs>\n  <clipPath id=\"pc5ec67ad7e\">\n   <rect height=\"217.44\" width=\"334.8\" x=\"53.328125\" y=\"7.2\"/>\n  </clipPath>\n </defs>\n</svg>\n",
      "text/plain": [
       "<Figure size 432x288 with 1 Axes>"
      ]
     },
     "metadata": {
      "needs_background": "light"
     }
    }
   ],
   "metadata": {}
  },
  {
   "cell_type": "markdown",
   "source": [
    "SAとQAなので単純比較はできませんが、今回の結果からは、HUBO直接解法(openjijを用いたSA)の方が、QUBO変換解法(D-waveを用いたQA)に比べ、\n",
    "最適解を導くエネルギーを多く得ることができていることがわかります。"
   ],
   "metadata": {}
  },
  {
   "cell_type": "markdown",
   "source": [
    "## 引用文献\n",
    "\n",
    "1. Alejandro Perdomo-Ortiz, et.al \"Finding low-energy conformations of lattice protein models by quantum annealing\". Scientific Reports volume 2, Article number: 571 (2012)\n",
    "2. Dill KA (March 1985). \"Theory for the folding and stability of globular proteins\". Biochemistry. 24 (6)\n",
    "3. Miyazawa, S. & Jernigan, R. L. Residue-residue potentials with a favorable contact pair term and an unfavorable high packing density term, for simulation and threading. J. Mol. Biol. 256, 623–644 (1996)."
   ],
   "metadata": {}
  },
  {
   "cell_type": "markdown",
   "source": [],
   "metadata": {}
  }
 ],
 "metadata": {
  "orig_nbformat": 4,
  "language_info": {
   "name": "python",
   "version": "3.7.4",
   "mimetype": "text/x-python",
   "codemirror_mode": {
    "name": "ipython",
    "version": 3
   },
   "pygments_lexer": "ipython3",
   "nbconvert_exporter": "python",
   "file_extension": ".py"
  },
  "kernelspec": {
   "name": "python3",
   "display_name": "Python 3.7.4 64-bit ('Jij': pyenv)"
  },
  "interpreter": {
   "hash": "26149c88d220c3ed2d17341f1c6f96caae4173defcdd371f100d436532ba42d1"
  }
 },
 "nbformat": 4,
 "nbformat_minor": 2
}