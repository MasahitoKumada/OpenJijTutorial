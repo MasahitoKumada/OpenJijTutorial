{
 "cells": [
  {
   "cell_type": "markdown",
   "source": [
    "# 11-HUBO: Higher order unconstraint binary optimization"
   ],
   "metadata": {}
  },
  {
   "cell_type": "markdown",
   "source": [
    "If you want to handle higher order model as follows:\n",
    "\n",
    "$$\n",
    "H=\\sum_{i} h_{i} \\sigma_{i}+\\sum_{i<j} J_{i j} \\sigma_{i} \\sigma_{j}+\\sum_{i, j, k} K_{i, j, k} \\sigma_{i} \\sigma_{j} \\sigma_{k} \\cdots \n",
    "\\\\\n",
    "\\sigma_i \\in \\{-1, 1\\}, i=1,\\cdots N\n",
    "$$\n",
    "\n"
   ],
   "metadata": {}
  },
  {
   "cell_type": "markdown",
   "source": [
    "## HUBOの定義"
   ],
   "metadata": {}
  },
  {
   "cell_type": "code",
   "execution_count": 1,
   "source": [
    "import openjij as oj\n",
    "\n",
    "# Only SASampler can handle HUBO.\n",
    "sampler = oj.SASampler()\n",
    "\n",
    "# define polynomial\n",
    "polynomial = {(0,): -1, (0,1): -1, (0,1,2): 1}"
   ],
   "outputs": [],
   "metadata": {}
  },
  {
   "cell_type": "markdown",
   "source": [
    "## QUBO変換による解法"
   ],
   "metadata": {}
  },
  {
   "cell_type": "code",
   "execution_count": 4,
   "source": [
    "import dimod\n",
    "\n",
    "# Polynomial相互作用、ペナルティの大きさ、変数のタイプを指定して対応するquadraticモデルを生成する。\n",
    "bqm = dimod.make_quadratic(poly=polynomial, strength=5.0, vartype=\"SPIN\")\n",
    "print('0次の項:', bqm.offset)\n",
    "print('1次の項:', dict(bqm.linear))    # bqm.linearはpythonのdictに変換して表示する。\n",
    "print('2次の項:', dict(bqm.quadratic)) # bqm.quadraticもpythonのdictに変換して表示する。"
   ],
   "outputs": [
    {
     "output_type": "stream",
     "name": "stdout",
     "text": [
      "0次の項: 10.0\n",
      "1次の項: {0: -3.5, '0*1': -3.5, 2: 0.0, 1: -2.5, 'aux0,1': -5.0}\n",
      "2次の項: {('0*1', 0): 2.5, (2, '0*1'): 1.0, (1, 0): 2.5, (1, '0*1'): 2.5, ('aux0,1', 0): 5.0, ('aux0,1', '0*1'): 5.0, ('aux0,1', 1): 5.0}\n"
     ]
    }
   ],
   "metadata": {}
  },
  {
   "cell_type": "code",
   "execution_count": 5,
   "source": [
    "# インデックスを0始まりの整数に変換する関数\n",
    "def relabel_variables_as_integers(dimod_bqm):\n",
    "    mapping = {}\n",
    "    variables = list(dimod_bqm.variables)\n",
    "    count = 0\n",
    "    for key in variables:\n",
    "        mapping[key] = count\n",
    "        count += 1\n",
    "    linear    = {mapping[k]:v for k,v in dimod_bqm.linear.items()}\n",
    "    quadratic = {(mapping[k[0]], mapping[k[1]]):v for k,v in dimod_bqm.quadratic.items()}\n",
    "    return dimod.BinaryQuadraticModel(linear, quadratic, dimod_bqm.offset, dimod_bqm.vartype), mapping\n",
    "\n",
    "\n",
    "bqm_relabeled, mapping = relabel_variables_as_integers(bqm) # インデックスを0始まりに変換する。\n",
    "\n",
    "print('0次の項:', bqm_relabeled.offset)\n",
    "print('1次の項:', dict(bqm_relabeled.linear))    # bqm.linearはpythonのdictに変換して表示する。\n",
    "print('2次の項:', dict(bqm_relabeled.quadratic)) # bqm.quadraticもpythonのdictに変換して表示する。\n",
    "print('変数の対応関係:', mapping) # Relabelしたあ後のインデックスと元のインデックスの対応関係を表示する。"
   ],
   "outputs": [
    {
     "output_type": "stream",
     "name": "stdout",
     "text": [
      "0次の項: 10.0\n",
      "1次の項: {1: -3.5, 0: -3.5, 2: 0.0, 3: -2.5, 4: -5.0}\n",
      "2次の項: {(0, 1): 2.5, (2, 1): 1.0, (3, 1): 2.5, (3, 0): 2.5, (4, 1): 5.0, (4, 0): 5.0, (4, 3): 5.0}\n",
      "変数の対応関係: {0: 0, '0*1': 1, 2: 2, 1: 3, 'aux0,1': 4}\n"
     ]
    }
   ],
   "metadata": {}
  },
  {
   "cell_type": "code",
   "execution_count": 21,
   "source": [
    "# dimodのbqm_relabeledはOpenJijのBinaryQuadraticModelに変換する。\n",
    "bqm_oj = oj.BinaryQuadraticModel(dict(bqm_relabeled.linear), dict(bqm_relabeled.quadratic), bqm_relabeled.offset, vartype=\"SPIN\")\n",
    "\n",
    "#　ここまでの前処理をした後に、sampleメソッドに投げることができる。\n",
    "response = sampler.sample(bqm_oj)\n",
    "print(response)\n",
    "\n",
    "hubo_configuration = {i: response.record[0][0][mapping[i]] for i in range(len(polynomial))}\n",
    "print('対応するHUBOの解:', hubo_configuration)\n",
    "print('対応するHUBOの解のエネルギー:', dimod.BinaryPolynomial(polynomial, \"SPIN\").energy(hubo_configuration))"
   ],
   "outputs": [
    {
     "output_type": "stream",
     "name": "stdout",
     "text": [
      "   0  1  2  3  4 energy num_oc.\n",
      "0 +1 +1 -1 +1 -1   -3.0       1\n",
      "['SPIN', 1 rows, 1 samples, 5 variables]\n",
      "対応するHUBOの解: {0: 1, 1: 1, 2: -1}\n",
      "対応するHUBOの解のエネルギー: -3.0\n"
     ]
    }
   ],
   "metadata": {}
  },
  {
   "cell_type": "code",
   "execution_count": 22,
   "source": [
    "# 元のHUBOの最適解の確認\n",
    "sampleset = dimod.ExactPolySolver().sample_hising(h = {}, J = polynomial)\n",
    "print('最適解:',sampleset.first.sample)\n",
    "print('対応するエネルギー:',sampleset.first.energy)"
   ],
   "outputs": [
    {
     "output_type": "stream",
     "name": "stdout",
     "text": [
      "最適解: {0: 1, 1: 1, 2: -1}\n",
      "対応するエネルギー: -3.0\n"
     ]
    }
   ],
   "metadata": {}
  },
  {
   "cell_type": "markdown",
   "source": [
    "### QUBO変換による解法の問題点\n",
    "1. ペナルティの大きさ(strength)の適切な値が不明瞭\n",
    "2. QUBO変換した際に変数、相互作用の数が増えてしまい、変換時間もかかってしまう"
   ],
   "metadata": {}
  },
  {
   "cell_type": "markdown",
   "source": [
    "## HUBOの直接解法"
   ],
   "metadata": {}
  },
  {
   "cell_type": "code",
   "execution_count": 23,
   "source": [
    "# make HUBO\n",
    "response = sampler.sample_hubo(polynomial, vartype=\"SPIN\")\n",
    "print(response)"
   ],
   "outputs": [
    {
     "output_type": "stream",
     "name": "stdout",
     "text": [
      "   0  1  2 energy num_oc.\n",
      "0 +1 +1 -1   -3.0       1\n",
      "['SPIN', 1 rows, 1 samples, 3 variables]\n"
     ]
    }
   ],
   "metadata": {}
  },
  {
   "cell_type": "code",
   "execution_count": 24,
   "source": [
    "# 辞書のkeyは数値以外も扱うことができる。\n",
    "# 相互作用を定義\n",
    "polynomial_ = {('a',): -1, ('a','b'): -1, ('a','b','c'): 1}\n",
    "\n",
    "# HUBOを作り、sample_huboメソッドに投げる。\n",
    "response = sampler.sample_hubo(polynomial_, vartype=\"SPIN\")\n",
    "# 最適化の結果を取得\n",
    "print(response)"
   ],
   "outputs": [
    {
     "output_type": "stream",
     "name": "stdout",
     "text": [
      "   a  b  c energy num_oc.\n",
      "0 +1 +1 -1   -3.0       1\n",
      "['SPIN', 1 rows, 1 samples, 3 variables]\n"
     ]
    }
   ],
   "metadata": {}
  },
  {
   "cell_type": "code",
   "execution_count": null,
   "source": [],
   "outputs": [],
   "metadata": {}
  }
 ],
 "metadata": {
  "orig_nbformat": 4,
  "language_info": {
   "name": "python",
   "version": "3.7.4",
   "mimetype": "text/x-python",
   "codemirror_mode": {
    "name": "ipython",
    "version": 3
   },
   "pygments_lexer": "ipython3",
   "nbconvert_exporter": "python",
   "file_extension": ".py"
  },
  "kernelspec": {
   "name": "python3",
   "display_name": "Python 3.7.4 64-bit ('Jij': pyenv)"
  },
  "interpreter": {
   "hash": "26149c88d220c3ed2d17341f1c6f96caae4173defcdd371f100d436532ba42d1"
  }
 },
 "nbformat": 4,
 "nbformat_minor": 2
}