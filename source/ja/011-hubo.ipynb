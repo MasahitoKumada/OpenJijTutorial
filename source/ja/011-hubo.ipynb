{
 "cells": [
  {
   "cell_type": "markdown",
   "source": [
    "# 11-HUBO: Higher order unconstraint binary optimization"
   ],
   "metadata": {}
  },
  {
   "cell_type": "markdown",
   "source": [
    "通常のイジングモデルまたはQUBOモデルに対して高次の項を導入したモデルを考えてみます。 具体的には２値のバイナリ変数(-1,1)もしくは(0,1)の$\\sigma_{i}$ に対して次のようなエネルギー関数を導入してみましょう。\n",
    "\n",
    "$$\n",
    "H= c+\\sum_{i} h_{i} \\sigma_{i}+\\sum_{i<j} J_{i j} \\sigma_{i} \\sigma_{j}+\\sum_{i<j<k} K_{i, j, k} \\sigma_{i} \\sigma_{j} \\sigma_{k}+\\cdots,\n",
    "\\\\\n",
    "\\sigma_i \\in \\{-1, 1\\}, i=1,\\ldots ,N\n",
    "$$\n",
    "\n",
    "ここで、添え字$i,j,k,\\ldots$はバイナリ変数を指定するインデックスで、$1<= i,j,k,... <=N$の値を取ります。バイナリ変数は $\\sigma_{i} \\in \\{-1, +1\\}$ or $\\sigma_{i} \\in \\{0, 1\\}$とします。$c$は定数であり、0次の項に対応します。\n",
    "このエネルギー関数の最小値を与える変数の組$(\\sigma_{1} ,\\sigma_{2} ,\\ldots,\\sigma_{N} )$を求める問題は、higher-order unconstrained binary optimization (HUBO)やpolynomial unconstrained binary optimization (PUBO)などど呼ばれています。以下ではHUBOで統一して呼称することにします。\n",
    "この手の問題は通常のイジングモデルを自然に拡張したものとみなすことができ、例えば、量子化学の分野で現れます。\n"
   ],
   "metadata": {}
  },
  {
   "cell_type": "markdown",
   "source": [
    "## HUBOの定義\n",
    "\n",
    "本チュートリアルでは、簡単のため、以下のような3次以下の項のみが現れる$N=3$変数の問題を考えます。\n",
    "\n",
    "$$\n",
    "H = -\\sigma_1 -\\sigma_1\\sigma_2 +\\sigma_1\\sigma_2\\sigma_3, \\\\ \\sigma_i \\in \\{-1, +1\\}\n",
    "$$"
   ],
   "metadata": {}
  },
  {
   "cell_type": "code",
   "execution_count": 1,
   "source": [
    "# HUBOを定義します。\n",
    "polynomial = {(1,): -1, (1,2): -1, (1,2,3): 1}"
   ],
   "outputs": [],
   "metadata": {}
  },
  {
   "cell_type": "markdown",
   "source": [
    "## HUBOによる直接解法\n",
    "\n",
    "OpenJijではHUBOをQUBOに変換することなく、以下のsample_huboメソッドを用いることで\n",
    "直接SAを行うことができます。\n",
    "\n",
    "得られた解が、最適解に一致していることが確かめられます。"
   ],
   "metadata": {}
  },
  {
   "cell_type": "code",
   "execution_count": 2,
   "source": [
    "import openjij as oj\n",
    "\n",
    "# HUBOメソッドを利用するためには、SASamplerメソッドを用いる必要があります。\n",
    "sampler = oj.SASampler()\n",
    "\n",
    "# sample_huboメソッドに投げます。\n",
    "# sample_huboメソッドの第２引数vartypeは変数のタイプ、SPINもしくはBINARYを指定します。\n",
    "# SPINでは{-1,1}、BINARYでは{0,1}が変数として指定されます。  \n",
    "# num_readsはサンプリング回数を指定できる。デフォルトは、num_reads=1です。\n",
    "response = sampler.sample_hubo(polynomial, vartype=\"SPIN\", num_reads=1)\n",
    "print(response)"
   ],
   "outputs": [
    {
     "output_type": "stream",
     "name": "stdout",
     "text": [
      "   1  2  3 energy num_oc.\n",
      "0 +1 -1 +1   -1.0       1\n",
      "['SPIN', 1 rows, 1 samples, 3 variables]\n"
     ]
    }
   ],
   "metadata": {}
  },
  {
   "cell_type": "code",
   "execution_count": 3,
   "source": [
    "import openjij as oj\n",
    "\n",
    "# HUBOメソッドを利用するためには、SASamplerメソッドを用いる必要があります。\n",
    "sampler = oj.SASampler()\n",
    "\n",
    "# sample_huboメソッドに投げます。\n",
    "# sample_huboメソッドの第２引数vartypeは変数のタイプ、SPINもしくはBINARYを指定します。\n",
    "# SPINでは{-1,1}、BINARYでは{0,1}が変数として指定されます。  \n",
    "# num_readsはサンプリング回数を指定できる。デフォルトは、num_reads=1です。\n",
    "response = sampler.sample_hubo(polynomial, vartype=\"SPIN\", num_reads=1)\n",
    "print(response)"
   ],
   "outputs": [
    {
     "output_type": "stream",
     "name": "stdout",
     "text": [
      "   1  2  3 energy num_oc.\n",
      "0 +1 +1 -1   -3.0       1\n",
      "['SPIN', 1 rows, 1 samples, 3 variables]\n"
     ]
    }
   ],
   "metadata": {}
  },
  {
   "cell_type": "markdown",
   "source": [
    "なお、sample_huboメソッドは、辞書のkeyとして数値以外も扱うことができます。"
   ],
   "metadata": {}
  },
  {
   "cell_type": "code",
   "execution_count": 4,
   "source": [
    "# 辞書のkeyは数値以外も扱うことができます。\n",
    "# HUBOを定義します。\n",
    "polynomial_ = {('a',): -1, ('a','b'): -1, ('a','b','c'): 1}\n",
    "\n",
    "# sample_huboメソッドに投げます。\n",
    "response = sampler.sample_hubo(polynomial_, vartype=\"SPIN\", num_reads=1)\n",
    "# 最適化の結果を取得します。\n",
    "print(response)"
   ],
   "outputs": [
    {
     "output_type": "stream",
     "name": "stdout",
     "text": [
      "   a  b  c energy num_oc.\n",
      "0 +1 +1 -1   -3.0       1\n",
      "['SPIN', 1 rows, 1 samples, 3 variables]\n"
     ]
    }
   ],
   "metadata": {}
  },
  {
   "cell_type": "markdown",
   "source": [
    " sample_huboメソッドを用いて100回実行したところ、異なる種類の解が複数回得られることがわかります。\n",
    " 解の頻度について、エネルギーのヒストグラムとして可視化してみましょう。"
   ],
   "metadata": {}
  },
  {
   "cell_type": "code",
   "execution_count": 5,
   "source": [
    "#SAによるシミュレーションを行う回数を指定します。\n",
    "num_sa = 100 \n",
    "\n",
    "response = sampler.sample_hubo(polynomial, vartype=\"SPIN\", num_reads=num_sa)\n",
    "energy_hubo = response.energies\n",
    "print(energy_hubo)"
   ],
   "outputs": [
    {
     "output_type": "stream",
     "name": "stdout",
     "text": [
      "[-3. -3. -3. -3. -3. -1. -3. -3. -3. -3. -1. -3. -3. -3. -3. -3. -3. -1.\n",
      " -3. -3. -3. -3. -3. -3. -3. -3. -3. -3. -3. -3. -3. -3. -3. -3. -3. -3.\n",
      " -3. -3. -3. -3. -3. -3. -3. -1. -3. -3. -3. -3. -3. -3. -3. -3. -3. -3.\n",
      " -3. -3. -3. -3. -3. -3. -3. -3. -3. -3. -3. -3. -3. -3. -3. -3. -3. -3.\n",
      " -3. -3. -3. -3. -3. -3. -3. -3. -1. -3. -3. -3. -3. -3. -3. -3. -3. -3.\n",
      " -3. -3. -3. -3. -3. -3. -3. -3. -3. -1.]\n"
     ]
    }
   ],
   "metadata": {}
  },
  {
   "cell_type": "code",
   "execution_count": 6,
   "source": [
    "import matplotlib.pyplot as plt\n",
    "plt.hist(energy_hubo, bins=15)\n",
    "plt.xlabel('Energy', fontsize=15)\n",
    "plt.ylabel('Frequency', fontsize=15)"
   ],
   "outputs": [
    {
     "output_type": "execute_result",
     "data": {
      "text/plain": [
       "Text(0, 0.5, 'Frequency')"
      ]
     },
     "metadata": {},
     "execution_count": 6
    },
    {
     "output_type": "display_data",
     "data": {
      "image/png": "[encoded data removed]",
      "text/plain": [
       "<Figure size 432x288 with 1 Axes>"
      ]
     },
     "metadata": {
      "needs_background": "light"
     }
    }
   ],
   "metadata": {}
  },
  {
   "cell_type": "markdown",
   "source": [
    "エネルギーが-3, -1の解が得られていることがわかります。内訳として、ほとんど-3の解が得られていることがわかります。"
   ],
   "metadata": {}
  },
  {
   "cell_type": "markdown",
   "source": [
    "## QUBO変換による解法\n",
    "\n",
    "HUBOを解く方法の一つとして、3次以上の高次の項を２次以下に変換して対応するQUBOを構成するというものがあります。QUBOに変換することで、SAやSQAなどの既存のソルバーの範囲内で解くという方針です。\n",
    "\n",
    "\n",
    "3次相互作用から対応するQUBOを生成するためにD-Waveのdimodというライブラリを使います。\n",
    "ここで、5.0に指定されているペナルティの大きさ(strength)は、高次相互作用を２次以下に変換する際に生じた制約条件に対するペナルティで、小さすぎると生成したQUBOの最適解がもとのHUBOと一致しなくなります。逆に大きすぎるとそもそも最適解が得られなくなってしまいます。実際上、どれくらいの値を指定すればいいのかというのは難しい問題ですが、ここでは5.0に指定しています。\n"
   ],
   "metadata": {}
  },
  {
   "cell_type": "code",
   "execution_count": 7,
   "source": [
    "import dimod\n",
    "\n",
    "# HUBO、ペナルティの大きさ、変数のタイプを指定して対応するquadraticモデルを生成します。\n",
    "bqm = dimod.make_quadratic(poly=polynomial, strength=5.0, vartype=\"SPIN\")\n",
    "print('0次の項:', bqm.offset)\n",
    "print('1次の項:', dict(bqm.linear))    # bqm.linearはpythonのdictに変換して表示します。\n",
    "print('2次の項:', dict(bqm.quadratic)) # bqm.quadraticもpythonのdictに変換して表示します。"
   ],
   "outputs": [
    {
     "output_type": "stream",
     "name": "stdout",
     "text": [
      "0次の項: 10.0\n",
      "1次の項: {1: -3.5, '1*2': -3.5, 3: 0.0, 2: -2.5, 'aux1,2': -5.0}\n",
      "2次の項: {('1*2', 1): 2.5, (3, '1*2'): 1.0, (2, 1): 2.5, (2, '1*2'): 2.5, ('aux1,2', 1): 5.0, ('aux1,2', '1*2'): 5.0, ('aux1,2', 2): 5.0}\n"
     ]
    }
   ],
   "metadata": {}
  },
  {
   "cell_type": "markdown",
   "source": [
    "見ての通りですが、もとの変数 $\\sigma_1,\\sigma_2,\\sigma_3,\\sigma_4$ に加えて $\\sigma_{\"0∗1\"}$ などの文字列で表現された変数が現れています。一般にHUBOをQUBOに変換すると変数の数、相互作用の数が増えてしまいます。\n",
    "\n",
    "今回のケースではHUBOの場合の変数が3個、相互作用の数も2個でしたが、QUBOに変換することで、変数が5個、相互作用の数が7個に増えています。\n",
    "\n",
    "このQUBOをopenJijのSAで解きたいわけですが、openJijでは数値と文字列が混在した変数は扱えないため、文字列を全て整数に変換する必要があります。"
   ],
   "metadata": {}
  },
  {
   "cell_type": "code",
   "execution_count": 8,
   "source": [
    "# インデックスを1始まりの整数に変換する関数を定義します。\n",
    "def relabel_variables_as_integers(dimod_bqm):\n",
    "    mapping = {}\n",
    "    variables = list(dimod_bqm.variables)\n",
    "    count = 1\n",
    "    for key in variables:\n",
    "        mapping[key] = count\n",
    "        count += 1\n",
    "    linear    = {mapping[k]:v for k,v in dimod_bqm.linear.items()}\n",
    "    quadratic = {(mapping[k[0]], mapping[k[1]]):v for k,v in dimod_bqm.quadratic.items()}\n",
    "    return dimod.BinaryQuadraticModel(linear, quadratic, dimod_bqm.offset, dimod_bqm.vartype), mapping\n",
    "\n",
    "\n",
    "bqm_relabeled, mapping = relabel_variables_as_integers(bqm) # インデックスを1始まりに変換します。\n",
    "\n",
    "print('0次の項:', bqm_relabeled.offset)\n",
    "print('1次の項:', dict(bqm_relabeled.linear))    # bqm.linearはpythonのdictに変換して表示します。\n",
    "print('2次の項:', dict(bqm_relabeled.quadratic)) # bqm.quadraticもpythonのdictに変換して表示します。\n",
    "print('変数の対応関係:', mapping) # Relabelした後のインデックスと元のインデックスの対応関係を表示します。"
   ],
   "outputs": [
    {
     "output_type": "stream",
     "name": "stdout",
     "text": [
      "0次の項: 10.0\n",
      "1次の項: {2: -3.5, 1: -3.5, 3: 0.0, 4: -2.5, 5: -5.0}\n",
      "2次の項: {(1, 2): 2.5, (3, 2): 1.0, (4, 2): 2.5, (4, 1): 2.5, (5, 2): 5.0, (5, 1): 5.0, (5, 4): 5.0}\n",
      "変数の対応関係: {1: 1, '1*2': 2, 3: 3, 2: 4, 'aux1,2': 5}\n"
     ]
    }
   ],
   "metadata": {}
  },
  {
   "cell_type": "markdown",
   "source": [
    "それではこのQUBOをOpenJijを利用して解いてみましょう。"
   ],
   "metadata": {}
  },
  {
   "cell_type": "code",
   "execution_count": 9,
   "source": [
    "# dimodのbqm_relabeledはOpenJijのBinaryQuadraticModelに変換します。\n",
    "bqm_oj = oj.BinaryQuadraticModel(dict(bqm_relabeled.linear), dict(bqm_relabeled.quadratic), bqm_relabeled.offset, vartype=\"SPIN\")\n",
    "\n",
    "#　ここまでの前処理をした後に、sampleメソッドに投げることができます。\n",
    "response = sampler.sample(bqm_oj, num_reads=1)\n",
    "print(response) "
   ],
   "outputs": [
    {
     "output_type": "stream",
     "name": "stdout",
     "text": [
      "   1  2  3  4  5 energy num_oc.\n",
      "0 +1 -1 +1 -1 +1   -1.0       1\n",
      "['SPIN', 1 rows, 1 samples, 5 variables]\n"
     ]
    }
   ],
   "metadata": {}
  },
  {
   "cell_type": "markdown",
   "source": [
    "これを元のHUBOの解に焼き直すには対応する変数だけを見れば良いです。今回はもともと $\\sigma_1,\\sigma_2,\\sigma_3$ という3変数でしたので、インデックスが1,2,3に対応するスピンだけを見ればいいことになります。変数を整数値に変換した際の対応関係は変換前→変換後という順番でmappingに格納されているのでこれを利用して、以下の対応するHUBOの解を得られることがわかります。\n",
    "\n",
    "SAの性質上常に最適解が得られるわけではないことに注意してください。この解から元のHUBOのエネルギーを計算します。今得られたQUBOのエネルギーがHUBOの対応するエネルギーとは限らないことに注意してください。先に指定したペナルティの大きさstrengthの値が適切でない場合は、意味のないエネルギーが得られてしまいます。"
   ],
   "metadata": {}
  },
  {
   "cell_type": "code",
   "execution_count": 10,
   "source": [
    "# 元のHUBOの解に焼き直します。\n",
    "hubo_configuration = {i: response.record[0][0][mapping[i]-1] for i in range(1, 4)}\n",
    "print('対応するHUBOの解:', hubo_configuration)\n",
    "print('対応するHUBOの解のエネルギー:', dimod.BinaryPolynomial(polynomial, \"SPIN\").energy(hubo_configuration))"
   ],
   "outputs": [
    {
     "output_type": "stream",
     "name": "stdout",
     "text": [
      "対応するHUBOの解: {1: 1, 2: -1, 3: 1}\n",
      "対応するHUBOの解のエネルギー: -1.0\n"
     ]
    }
   ],
   "metadata": {}
  },
  {
   "cell_type": "markdown",
   "source": [
    "QUBO変換による解法を100回実行し、解を確認してみます。\n",
    "なお、QUBO変換による解法ではエネルギーの保証がないため、元のHUBOのエネルギーを得られたバイナリー配位から直接計算します。"
   ],
   "metadata": {}
  },
  {
   "cell_type": "code",
   "execution_count": 11,
   "source": [
    "# dimodのbqm_relabeledはOpenJijのBinaryQuadraticModelに変換します。\n",
    "bqm_oj = oj.BinaryQuadraticModel(dict(bqm_relabeled.linear), dict(bqm_relabeled.quadratic), bqm_relabeled.offset, vartype=\"SPIN\")\n",
    "\n",
    "#　ここまでの前処理をした後に、sampleメソッドに投げることができます。\n",
    "response = sampler.sample(bqm_oj, num_reads=num_sa)"
   ],
   "outputs": [],
   "metadata": {}
  },
  {
   "cell_type": "markdown",
   "source": [
    "元のHUBOの解に焼き直します。"
   ],
   "metadata": {}
  },
  {
   "cell_type": "code",
   "execution_count": 12,
   "source": [
    "import numpy as np\n",
    "\n",
    "## QUBOを変換を通した解法によるエネルギーを定義します。\n",
    "energy_quad = np.zeros(num_sa)\n",
    "for i in range(num_sa):\n",
    "    hubo_configuration = {j: response.record[i][0][mapping[j]-1] for j in range(1, 4)}\n",
    "    energy_quad[i] = dimod.BinaryPolynomial(polynomial, \"BINARY\").energy(hubo_configuration)\n",
    "\n",
    "energy_quad"
   ],
   "outputs": [
    {
     "output_type": "execute_result",
     "data": {
      "text/plain": [
       "array([-3., -3., -3., -3., -3., -1., -3., -3., -3., -3., -1., -3., -3.,\n",
       "       -3., -3., -3., -3., -3., -1., -3., -3., -3., -3., -3., -3., -3.,\n",
       "       -3., -3., -3., -3., -3., -1., -3., -3., -3., -3., -3., -3., -3.,\n",
       "       -3., -3., -3., -1., -1., -3., -3., -3., -3., -3., -3., -3., -3.,\n",
       "       -3., -3., -3., -3., -3., -3., -1., -3., -3., -3., -3., -3., -3.,\n",
       "       -1., -3., -1., -3., -3., -1., -1., -1., -1., -3., -3., -3., -1.,\n",
       "       -3., -3., -3., -3., -3., -3., -3., -3., -3., -3., -3., -3., -3.,\n",
       "       -1., -3., -3., -3., -3., -3., -3., -3., -3.])"
      ]
     },
     "metadata": {},
     "execution_count": 12
    }
   ],
   "metadata": {}
  },
  {
   "cell_type": "markdown",
   "source": [
    " QUBO変換による解法を100回実行したところ、異なる種類の解が複数回得られることがわかります。\n",
    " 解の頻度について、エネルギーのヒストグラムとして可視化してみましょう。"
   ],
   "metadata": {}
  },
  {
   "cell_type": "code",
   "execution_count": 13,
   "source": [
    "plt.hist(energy_quad, bins=15)\n",
    "plt.xlabel('Energy', fontsize=15)\n",
    "plt.ylabel('Frequency', fontsize=15)"
   ],
   "outputs": [
    {
     "output_type": "execute_result",
     "data": {
      "text/plain": [
       "Text(0, 0.5, 'Frequency')"
      ]
     },
     "metadata": {},
     "execution_count": 13
    },
    {
     "output_type": "display_data",
     "data": {
      "image/png": "[encoded data removed]",
      "text/plain": [
       "<Figure size 432x288 with 1 Axes>"
      ]
     },
     "metadata": {
      "needs_background": "light"
     }
    }
   ],
   "metadata": {}
  },
  {
   "cell_type": "markdown",
   "source": [
    "エネルギーが-3, -1, 3の解が得られていることがわかります。内訳として、ほとんど-3の解が得られていることがわかります。\n",
    "\n",
    "ここで得られた解が元の問題に対する最適解かどうかを調べるために、dimodのExactPolySolverを使って確認します。"
   ],
   "metadata": {}
  },
  {
   "cell_type": "code",
   "execution_count": 14,
   "source": [
    "# 元のHUBOの最適解を確認します。\n",
    "sampleset = dimod.ExactPolySolver().sample_hising(h = {}, J = polynomial)\n",
    "print('最適解:',sampleset.first.sample)\n",
    "print('対応するエネルギー:',sampleset.first.energy)"
   ],
   "outputs": [
    {
     "output_type": "stream",
     "name": "stdout",
     "text": [
      "最適解: {1: 1, 2: 1, 3: -1}\n",
      "対応するエネルギー: -3.0\n"
     ]
    }
   ],
   "metadata": {}
  },
  {
   "cell_type": "markdown",
   "source": [
    "元のHUBOに対する最適解のエネルギーは-3.0であることがわかります。"
   ],
   "metadata": {}
  },
  {
   "cell_type": "markdown",
   "source": [
    "## HUBOによる直接解法とQUBO変換による解法結果の比較\n",
    "\n",
    "最後に, HUBOによる直接解法とQUBO変換による解法を比較します。 SAによるシミュレーションを100回行い、各シミュレーションで得られたエネルギーを比較してみます。 結果をヒストグラムにすると次のようになります。"
   ],
   "metadata": {}
  },
  {
   "cell_type": "code",
   "execution_count": 15,
   "source": [
    "plt.hist(energy_hubo, label='HUBO', range=(-3, 1), bins=10, alpha=0.5)\n",
    "plt.hist(energy_quad, label='Through QUBO', range=(-3, 1), bins=10, alpha=0.5)\n",
    "plt.legend()\n",
    "plt.xlabel('Energy')\n",
    "plt.ylabel('Frequency')"
   ],
   "outputs": [
    {
     "output_type": "execute_result",
     "data": {
      "text/plain": [
       "Text(0, 0.5, 'Frequency')"
      ]
     },
     "metadata": {},
     "execution_count": 15
    },
    {
     "output_type": "display_data",
     "data": {
      "image/png": "[encoded data removed]",
      "text/plain": [
       "<Figure size 432x288 with 1 Axes>"
      ]
     },
     "metadata": {
      "needs_background": "light"
     }
    }
   ],
   "metadata": {}
  },
  {
   "cell_type": "markdown",
   "source": [
    "HUBOを直接解いた方が、最適解を導くエネルギーを多く得ることができていることがわかります。"
   ],
   "metadata": {}
  },
  {
   "cell_type": "markdown",
   "source": [
    "## QUBO変換による解法の問題点\n",
    "以上より、QUBO変換による解法の問題点として、以下の2点が考えられます。\n",
    "\n",
    "1. ペナルティの大きさ(strength)の適切な値が不明瞭である。\n",
    "2. QUBO変換した際に変数、相互作用の数が増えてしまい、変換時間もかかってしまう。"
   ],
   "metadata": {}
  },
  {
   "cell_type": "markdown",
   "source": [],
   "metadata": {}
  }
 ],
 "metadata": {
  "orig_nbformat": 4,
  "language_info": {
   "name": "python",
   "version": "3.7.4",
   "mimetype": "text/x-python",
   "codemirror_mode": {
    "name": "ipython",
    "version": 3
   },
   "pygments_lexer": "ipython3",
   "nbconvert_exporter": "python",
   "file_extension": ".py"
  },
  "kernelspec": {
   "name": "python3",
   "display_name": "Python 3.7.4 64-bit ('Jij': pyenv)"
  },
  "interpreter": {
   "hash": "26149c88d220c3ed2d17341f1c6f96caae4173defcdd371f100d436532ba42d1"
  }
 },
 "nbformat": 4,
 "nbformat_minor": 2
}