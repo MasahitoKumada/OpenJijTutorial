{
 "cells": [
  {
   "cell_type": "markdown",
   "source": [
    "# 11-HUBO: Higher order unconstraint binary optimization"
   ],
   "metadata": {}
  },
  {
   "cell_type": "markdown",
   "source": [
    "If you want to handle higher order model as follows:\n",
    "\n",
    "$$\n",
    "H=\\sum_{i} h_{i} \\sigma_{i}+\\sum_{i<j} J_{i j} \\sigma_{i} \\sigma_{j}+\\sum_{i, j, k} K_{i, j, k} \\sigma_{i} \\sigma_{j} \\sigma_{k} \\cdots \n",
    "\\\\\n",
    "\\sigma_i \\in \\{-1, 1\\}, i=1,\\cdots N\n",
    "$$\n",
    "\n",
    "use .sample_hubo\n",
    "\n",
    "HUBO: Higher order unconstraint binary optimization"
   ],
   "metadata": {}
  },
  {
   "cell_type": "code",
   "execution_count": 24,
   "source": [
    "# https://openjij.github.io/OpenJij_Documentation/build/html/5-HigherOrderModel.html\n",
    "\n",
    "import openjij as oj\n",
    "\n",
    "# Only SASampler can handle HUBO.\n",
    "sampler = oj.SASampler()\n",
    "\n",
    "# define Jij\n",
    "J = {(0,): -1, (0,1): -1, (0,1,2): 1}\n",
    "\n",
    "#  make HUBO\n",
    "response = sampler.sample_hubo(J, vartype=\"SPIN\")\n",
    "print(response)"
   ],
   "outputs": [
    {
     "output_type": "stream",
     "name": "stdout",
     "text": [
      "   0  1  2 energy num_oc.\n",
      "0 +1 +1 -1   -3.0       1\n",
      "['SPIN', 1 rows, 1 samples, 3 variables]\n"
     ]
    }
   ],
   "metadata": {}
  },
  {
   "cell_type": "code",
   "execution_count": 25,
   "source": [
    "# 辞書のkeyは数値以外も扱うことができる。\n",
    "# define Jij\n",
    "J = {('a',): -1, ('a','b'): -1, ('a','b','c'): 1}\n",
    "\n",
    "#  make HUBO\n",
    "response = sampler.sample_hubo(J, vartype=\"SPIN\")\n",
    "print(response)"
   ],
   "outputs": [
    {
     "output_type": "stream",
     "name": "stdout",
     "text": [
      "   a  b  c energy num_oc.\n",
      "0 +1 +1 -1   -3.0       1\n",
      "['SPIN', 1 rows, 1 samples, 3 variables]\n"
     ]
    }
   ],
   "metadata": {}
  },
  {
   "cell_type": "code",
   "execution_count": null,
   "source": [],
   "outputs": [],
   "metadata": {}
  }
 ],
 "metadata": {
  "orig_nbformat": 4,
  "language_info": {
   "name": "python",
   "version": "3.7.4",
   "mimetype": "text/x-python",
   "codemirror_mode": {
    "name": "ipython",
    "version": 3
   },
   "pygments_lexer": "ipython3",
   "nbconvert_exporter": "python",
   "file_extension": ".py"
  },
  "kernelspec": {
   "name": "python3",
   "display_name": "Python 3.7.4 64-bit ('Jij': pyenv)"
  },
  "interpreter": {
   "hash": "26149c88d220c3ed2d17341f1c6f96caae4173defcdd371f100d436532ba42d1"
  }
 },
 "nbformat": 4,
 "nbformat_minor": 2
}