{
 "cells": [
  {
   "cell_type": "markdown",
   "source": [
    "# 11-HUBO: Higher order unconstraint binary optimization"
   ],
   "metadata": {}
  },
  {
   "cell_type": "markdown",
   "source": [
    "通常のイジングモデルまたはQUBOモデルに対して高次の項を導入したモデルを考えてみます。 具体的には２値のバイナリ変数(-1,1)もしくは(0,1)の$\\sigma_{i}$ に対して次のようなエネルギー関数を導入してみましょう。\n",
    "\n",
    "$$\n",
    "H= c+\\sum_{i} h_{i} \\sigma_{i}+\\sum_{i<j} J_{i j} \\sigma_{i} \\sigma_{j}+\\sum_{i<j<k} K_{i, j, k} \\sigma_{i} \\sigma_{j} \\sigma_{k}+\\cdots,\n",
    "\\\\\n",
    "\\sigma_i \\in \\{-1, 1\\}, i=1,\\ldots ,N\n",
    "$$\n",
    "\n",
    "ここで、添え字$i,j,k,\\ldots$はバイナリ変数を指定するインデックスで、$1<= i,j,k,... <=N$の値を取ります。バイナリ変数は $\\sigma_{i} \\in \\{-1, +1\\}$ or $\\sigma_{i} \\in \\{0, 1\\}$とします。$c$は定数であり、0次の項に対応します。\n",
    "このエネルギー関数の最小値を与える変数の組$(\\sigma_{1} ,\\sigma_{2} ,\\ldots,\\sigma_{N} )$を求める問題は、higher-order unconstrained binary optimization (HUBO)やpolynomial unconstrained binary optimization (PUBO)などど呼ばれています。以下ではHUBOで統一して呼称することにします。\n",
    "この手の問題は通常のイジングモデルを自然に拡張したものとみなすことができ、例えば、量子化学の分野で現れます。\n"
   ],
   "metadata": {}
  },
  {
   "cell_type": "markdown",
   "source": [
    "## HUBOの定義\n",
    "\n",
    "本チュートリアルでは、簡単のため、以下のような3次以下の項のみが現れる$N=3$変数の問題を考えます。\n",
    "\n",
    "$$\n",
    "H = -\\sigma_1 -\\sigma_1\\sigma_2 +\\sigma_1\\sigma_2\\sigma_3, \\\\ \\sigma_i \\in \\{-1, +1\\}\n",
    "$$"
   ],
   "metadata": {}
  },
  {
   "cell_type": "code",
   "execution_count": 130,
   "source": [
    "# HUBOを定義します。\n",
    "polynomial = {(1,): -1, (1,2): -1, (1,2,3): 1}"
   ],
   "outputs": [],
   "metadata": {}
  },
  {
   "cell_type": "markdown",
   "source": [
    "## HUBOによる直接解法\n",
    "\n",
    "OpenJijではHUBOをQUBOに変換することなく、以下のsample_huboメソッドを用いることで\n",
    "直接SAを行うことができます。\n",
    "\n",
    "得られた解が、最適解に一致していることが確かめられます。"
   ],
   "metadata": {}
  },
  {
   "cell_type": "code",
   "execution_count": 131,
   "source": [
    "import openjij as oj\n",
    "\n",
    "# HUBOメソッドを利用するためには、SASamplerメソッドを用いる必要があります。\n",
    "sampler = oj.SASampler()\n",
    "\n",
    "# sample_huboメソッドに投げます。\n",
    "# sample_huboメソッドの第２引数vartypeは変数のタイプ、SPINもしくはBINARYを指定します。\n",
    "# SPINでは{-1,1}、BINARYでは{0,1}が変数として指定されます。  \n",
    "# num_readsはサンプリング回数を指定できる。デフォルトは、num_reads=1です。\n",
    "response = sampler.sample_hubo(polynomial, vartype=\"SPIN\", num_reads=1)\n",
    "print(response)"
   ],
   "outputs": [
    {
     "output_type": "stream",
     "name": "stdout",
     "text": [
      "   1  2  3 energy num_oc.\n",
      "0 +1 +1 -1   -3.0       1\n",
      "['SPIN', 1 rows, 1 samples, 3 variables]\n"
     ]
    }
   ],
   "metadata": {}
  },
  {
   "cell_type": "code",
   "execution_count": 132,
   "source": [
    "import openjij as oj\n",
    "\n",
    "# HUBOメソッドを利用するためには、SASamplerメソッドを用いる必要があります。\n",
    "sampler = oj.SASampler()\n",
    "\n",
    "# sample_huboメソッドに投げます。\n",
    "# sample_huboメソッドの第２引数vartypeは変数のタイプ、SPINもしくはBINARYを指定します。\n",
    "# SPINでは{-1,1}、BINARYでは{0,1}が変数として指定されます。  \n",
    "# num_readsはサンプリング回数を指定できる。デフォルトは、num_reads=1です。\n",
    "response = sampler.sample_hubo(polynomial, vartype=\"SPIN\", num_reads=1)\n",
    "print(response)"
   ],
   "outputs": [
    {
     "output_type": "stream",
     "name": "stdout",
     "text": [
      "   1  2  3 energy num_oc.\n",
      "0 +1 +1 -1   -3.0       1\n",
      "['SPIN', 1 rows, 1 samples, 3 variables]\n"
     ]
    }
   ],
   "metadata": {}
  },
  {
   "cell_type": "markdown",
   "source": [
    "なお、sample_huboメソッドは、辞書のkeyとして数値以外も扱うことができます。"
   ],
   "metadata": {}
  },
  {
   "cell_type": "code",
   "execution_count": 133,
   "source": [
    "# 辞書のkeyは数値以外も扱うことができます。\n",
    "# HUBOを定義します。\n",
    "polynomial_ = {('a',): -1, ('a','b'): -1, ('a','b','c'): 1}\n",
    "\n",
    "# sample_huboメソッドに投げます。\n",
    "response = sampler.sample_hubo(polynomial_, vartype=\"SPIN\", num_reads=1)\n",
    "# 最適化の結果を取得します。\n",
    "print(response)"
   ],
   "outputs": [
    {
     "output_type": "stream",
     "name": "stdout",
     "text": [
      "   a  b  c energy num_oc.\n",
      "0 +1 +1 -1   -3.0       1\n",
      "['SPIN', 1 rows, 1 samples, 3 variables]\n"
     ]
    }
   ],
   "metadata": {}
  },
  {
   "cell_type": "markdown",
   "source": [
    " sample_huboメソッドを用いて100回実行したところ、異なる種類の解が複数回得られることがわかります。\n",
    " 解の頻度について、エネルギーのヒストグラムとして可視化してみましょう。"
   ],
   "metadata": {}
  },
  {
   "cell_type": "code",
   "execution_count": 134,
   "source": [
    "#SAによるシミュレーションを行う回数を指定します。\n",
    "num_sa = 100 \n",
    "\n",
    "response = sampler.sample_hubo(polynomial, vartype=\"SPIN\", num_reads=num_sa)\n",
    "energy_hubo = response.energies\n",
    "print(energy_hubo)"
   ],
   "outputs": [
    {
     "output_type": "stream",
     "name": "stdout",
     "text": [
      "[-3. -3. -3. -3. -3. -3. -3. -3. -3. -3. -3. -3. -3. -3. -3. -1. -3. -3.\n",
      " -3. -3. -3. -3. -3. -3. -1. -3. -3. -3. -3. -1. -3. -3. -3. -3. -3. -3.\n",
      " -3. -3. -3. -3. -3. -3. -1. -3. -3. -1. -3. -1. -3. -3. -3. -3. -3. -3.\n",
      " -3. -3. -3. -3. -3. -3. -3. -3. -3. -3. -3. -3. -3. -3. -3. -3. -3. -3.\n",
      " -3. -3. -3. -3. -3. -3. -3. -3. -3. -3. -3. -3. -3. -3. -3. -3. -3. -3.\n",
      " -3. -3. -3. -3. -3. -3. -3. -3. -3. -3.]\n"
     ]
    }
   ],
   "metadata": {}
  },
  {
   "cell_type": "code",
   "execution_count": 135,
   "source": [
    "import matplotlib.pyplot as plt\n",
    "plt.hist(energy_hubo, bins=15)\n",
    "plt.xlabel('Energy', fontsize=15)\n",
    "plt.ylabel('Frequency', fontsize=15)"
   ],
   "outputs": [
    {
     "output_type": "execute_result",
     "data": {
      "text/plain": [
       "Text(0, 0.5, 'Frequency')"
      ]
     },
     "metadata": {},
     "execution_count": 135
    },
    {
     "output_type": "display_data",
     "data": {
      "image/png": "[encoded data removed]",
      "text/plain": [
       "<Figure size 432x288 with 1 Axes>"
      ]
     },
     "metadata": {
      "needs_background": "light"
     }
    }
   ],
   "metadata": {}
  },
  {
   "cell_type": "markdown",
   "source": [
    "エネルギーが-3, -1の解が得られていることがわかります。内訳として、ほとんど-3の解が得られていることがわかります。"
   ],
   "metadata": {}
  },
  {
   "cell_type": "markdown",
   "source": [
    "## QUBO変換による解法\n",
    "\n",
    "HUBOを解く方法の一つとして、3次以上の高次の項を２次以下に変換して対応するQUBOを構成するというものがあります。QUBOに変換することで、SAやSQAなどの既存のソルバーの範囲内で解くという方針です。\n",
    "\n",
    "\n",
    "3次相互作用から対応するQUBOを生成するためにD-Waveのdimodというライブラリを使います。\n",
    "ここで、5.0に指定されているペナルティの大きさ(strength)は、高次相互作用を２次以下に変換する際に生じた制約条件に対するペナルティで、小さすぎると生成したQUBOの最適解がもとのHUBOと一致しなくなります。逆に大きすぎるとそもそも最適解が得られなくなってしまいます。実際上、どれくらいの値を指定すればいいのかというのは難しい問題ですが、ここでは5.0に指定しています。\n"
   ],
   "metadata": {}
  },
  {
   "cell_type": "code",
   "execution_count": 136,
   "source": [
    "import dimod\n",
    "\n",
    "# HUBO、ペナルティの大きさ、変数のタイプを指定して対応するquadraticモデルを生成します。\n",
    "bqm = dimod.make_quadratic(poly=polynomial, strength=5.0, vartype=\"SPIN\")\n",
    "print('0次の項:', bqm.offset)\n",
    "print('1次の項:', dict(bqm.linear))    # bqm.linearはpythonのdictに変換して表示します。\n",
    "print('2次の項:', dict(bqm.quadratic)) # bqm.quadraticもpythonのdictに変換して表示します。"
   ],
   "outputs": [
    {
     "output_type": "stream",
     "name": "stdout",
     "text": [
      "0次の項: 10.0\n",
      "1次の項: {1: -3.5, '1*2': -3.5, 3: 0.0, 2: -2.5, 'aux1,2': -5.0}\n",
      "2次の項: {('1*2', 1): 2.5, (3, '1*2'): 1.0, (2, 1): 2.5, (2, '1*2'): 2.5, ('aux1,2', 1): 5.0, ('aux1,2', '1*2'): 5.0, ('aux1,2', 2): 5.0}\n"
     ]
    }
   ],
   "metadata": {}
  },
  {
   "cell_type": "markdown",
   "source": [
    "見ての通りですが、もとの変数 $\\sigma_1,\\sigma_2,\\sigma_3,\\sigma_4$ に加えて $\\sigma_{\"0∗1\"}$ などの文字列で表現された変数が現れています。一般にHUBOをQUBOに変換すると変数の数、相互作用の数が増えてしまいます。\n",
    "\n",
    "今回のケースではHUBOの場合の変数が3個、相互作用の数も2個でしたが、QUBOに変換することで、変数が5個、相互作用の数が7個に増えています。\n",
    "\n",
    "このQUBOをopenJijのSAで解きたいわけですが、openJijでは数値と文字列が混在した変数は扱えないため、文字列を全て整数に変換する必要があります。"
   ],
   "metadata": {}
  },
  {
   "cell_type": "code",
   "execution_count": 137,
   "source": [
    "# インデックスを1始まりの整数に変換する関数を定義します。\n",
    "def relabel_variables_as_integers(dimod_bqm):\n",
    "    mapping = {}\n",
    "    variables = list(dimod_bqm.variables)\n",
    "    count = 1\n",
    "    for key in variables:\n",
    "        mapping[key] = count\n",
    "        count += 1\n",
    "    linear    = {mapping[k]:v for k,v in dimod_bqm.linear.items()}\n",
    "    quadratic = {(mapping[k[0]], mapping[k[1]]):v for k,v in dimod_bqm.quadratic.items()}\n",
    "    return dimod.BinaryQuadraticModel(linear, quadratic, dimod_bqm.offset, dimod_bqm.vartype), mapping\n",
    "\n",
    "\n",
    "bqm_relabeled, mapping = relabel_variables_as_integers(bqm) # インデックスを1始まりに変換します。\n",
    "\n",
    "print('0次の項:', bqm_relabeled.offset)\n",
    "print('1次の項:', dict(bqm_relabeled.linear))    # bqm.linearはpythonのdictに変換して表示します。\n",
    "print('2次の項:', dict(bqm_relabeled.quadratic)) # bqm.quadraticもpythonのdictに変換して表示します。\n",
    "print('変数の対応関係:', mapping) # Relabelした後のインデックスと元のインデックスの対応関係を表示します。"
   ],
   "outputs": [
    {
     "output_type": "stream",
     "name": "stdout",
     "text": [
      "0次の項: 10.0\n",
      "1次の項: {2: -3.5, 1: -3.5, 3: 0.0, 4: -2.5, 5: -5.0}\n",
      "2次の項: {(1, 2): 2.5, (3, 2): 1.0, (4, 2): 2.5, (4, 1): 2.5, (5, 2): 5.0, (5, 1): 5.0, (5, 4): 5.0}\n",
      "変数の対応関係: {1: 1, '1*2': 2, 3: 3, 2: 4, 'aux1,2': 5}\n"
     ]
    }
   ],
   "metadata": {}
  },
  {
   "cell_type": "markdown",
   "source": [
    "それではこのQUBOをOpenJijを利用して解いてみましょう。"
   ],
   "metadata": {}
  },
  {
   "cell_type": "code",
   "execution_count": 138,
   "source": [
    "# dimodのbqm_relabeledはOpenJijのBinaryQuadraticModelに変換します。\n",
    "bqm_oj = oj.BinaryQuadraticModel(dict(bqm_relabeled.linear), dict(bqm_relabeled.quadratic), bqm_relabeled.offset, vartype=\"SPIN\")\n",
    "\n",
    "#　ここまでの前処理をした後に、sampleメソッドに投げることができます。\n",
    "response = sampler.sample(bqm_oj, num_reads=1)\n",
    "print(response) "
   ],
   "outputs": [
    {
     "output_type": "stream",
     "name": "stdout",
     "text": [
      "   1  2  3  4  5 energy num_oc.\n",
      "0 +1 +1 -1 +1 -1   -3.0       1\n",
      "['SPIN', 1 rows, 1 samples, 5 variables]\n"
     ]
    }
   ],
   "metadata": {}
  },
  {
   "cell_type": "markdown",
   "source": [
    "これを元のHUBOの解に焼き直すには対応する変数だけを見れば良いです。今回はもともと $\\sigma_1,\\sigma_2,\\sigma_3$ という3変数でしたので、インデックスが1,2,3に対応するスピンだけを見ればいいことになります。変数を整数値に変換した際の対応関係は変換前→変換後という順番でmappingに格納されているのでこれを利用して、以下の対応するHUBOの解を得られることがわかります。\n",
    "\n",
    "SAの性質上常に最適解が得られるわけではないことに注意してください。この解から元のHUBOのエネルギーを計算します。今得られたQUBOのエネルギーがHUBOの対応するエネルギーとは限らないことに注意してください。先に指定したペナルティの大きさstrengthの値が適切でない場合は、意味のないエネルギーが得られてしまいます。"
   ],
   "metadata": {}
  },
  {
   "cell_type": "code",
   "execution_count": 139,
   "source": [
    "# 元のHUBOの解に焼き直します。\n",
    "hubo_configuration = {i: response.record[0][0][mapping[i]-1] for i in range(1, 4)}\n",
    "print('対応するHUBOの解:', hubo_configuration)\n",
    "print('対応するHUBOの解のエネルギー:', dimod.BinaryPolynomial(polynomial, \"SPIN\").energy(hubo_configuration))"
   ],
   "outputs": [
    {
     "output_type": "stream",
     "name": "stdout",
     "text": [
      "対応するHUBOの解: {1: 1, 2: 1, 3: -1}\n",
      "対応するHUBOの解のエネルギー: -3.0\n"
     ]
    }
   ],
   "metadata": {}
  },
  {
   "cell_type": "markdown",
   "source": [
    "QUBO変換による解法を100回実行し、解を確認してみます。\n",
    "なお、QUBO変換による解法ではエネルギーの保証がないため、元のHUBOのエネルギーを得られたバイナリー配位から直接計算します。"
   ],
   "metadata": {}
  },
  {
   "cell_type": "code",
   "execution_count": 140,
   "source": [
    "# dimodのbqm_relabeledはOpenJijのBinaryQuadraticModelに変換します。\n",
    "bqm_oj = oj.BinaryQuadraticModel(dict(bqm_relabeled.linear), dict(bqm_relabeled.quadratic), bqm_relabeled.offset, vartype=\"SPIN\")\n",
    "\n",
    "#　ここまでの前処理をした後に、sampleメソッドに投げることができます。\n",
    "response = sampler.sample(bqm_oj, num_reads=num_sa)"
   ],
   "outputs": [],
   "metadata": {}
  },
  {
   "cell_type": "markdown",
   "source": [
    "元のHUBOの解に焼き直します。"
   ],
   "metadata": {}
  },
  {
   "cell_type": "code",
   "execution_count": 141,
   "source": [
    "import numpy as np\n",
    "\n",
    "## QUBOを変換を通した解法によるエネルギーを定義します。\n",
    "energy_quad = np.zeros(num_sa)\n",
    "for i in range(num_sa):\n",
    "    hubo_configuration = {j: response.record[i][0][mapping[j]-1] for j in range(1, 4)}\n",
    "    energy_quad[i] = dimod.BinaryPolynomial(polynomial, \"BINARY\").energy(hubo_configuration)\n",
    "\n",
    "energy_quad"
   ],
   "outputs": [
    {
     "output_type": "execute_result",
     "data": {
      "text/plain": [
       "array([-3., -1., -3., -3., -3., -3., -3., -3., -3., -3., -3., -3., -3.,\n",
       "       -3., -3., -3., -3., -1., -3., -3., -3., -3., -3., -3., -3., -1.,\n",
       "       -1., -3., -3., -3., -3., -1., -3., -3., -1., -3., -3., -3., -3.,\n",
       "       -3., -3., -1., -3., -1., -1., -3., -3., -3., -3., -3., -1., -3.,\n",
       "       -1., -3., -3., -3., -1., -3., -3., -3., -3., -3., -3., -3., -3.,\n",
       "       -3., -3., -3., -3., -3., -3., -3., -3., -3., -3., -3., -3., -3.,\n",
       "       -3., -3., -3., -1., -3., -3., -3., -1., -3., -3., -3., -3., -3.,\n",
       "       -3., -3., -3., -3., -3., -3., -1., -3., -3.])"
      ]
     },
     "metadata": {},
     "execution_count": 141
    }
   ],
   "metadata": {}
  },
  {
   "cell_type": "markdown",
   "source": [
    " QUBO変換による解法を100回実行したところ、異なる種類の解が複数回得られることがわかります。\n",
    " 解の頻度について、エネルギーのヒストグラムとして可視化してみましょう。"
   ],
   "metadata": {}
  },
  {
   "cell_type": "code",
   "execution_count": 142,
   "source": [
    "plt.hist(energy_quad, bins=15)\n",
    "plt.xlabel('Energy', fontsize=15)\n",
    "plt.ylabel('Fresquency', fontsize=15)"
   ],
   "outputs": [
    {
     "output_type": "execute_result",
     "data": {
      "text/plain": [
       "Text(0, 0.5, 'Fresquency')"
      ]
     },
     "metadata": {},
     "execution_count": 142
    },
    {
     "output_type": "display_data",
     "data": {
      "image/png": "[encoded data removed]",
      "text/plain": [
       "<Figure size 432x288 with 1 Axes>"
      ]
     },
     "metadata": {
      "needs_background": "light"
     }
    }
   ],
   "metadata": {}
  },
  {
   "cell_type": "markdown",
   "source": [
    "エネルギーが-3, -1, 3の解が得られていることがわかります。内訳として、ほとんど-3の解が得られていることがわかります。\n",
    "\n",
    "ここで得られた解が元の問題に対する最適解かどうかを調べるために、dimodのExactPolySolverを使って確認します。"
   ],
   "metadata": {}
  },
  {
   "cell_type": "code",
   "execution_count": 143,
   "source": [
    "# 元のHUBOの最適解を確認します。\n",
    "sampleset = dimod.ExactPolySolver().sample_hising(h = {}, J = polynomial)\n",
    "print('最適解:',sampleset.first.sample)\n",
    "print('対応するエネルギー:',sampleset.first.energy)"
   ],
   "outputs": [
    {
     "output_type": "stream",
     "name": "stdout",
     "text": [
      "最適解: {1: 1, 2: 1, 3: -1}\n",
      "対応するエネルギー: -3.0\n"
     ]
    }
   ],
   "metadata": {}
  },
  {
   "cell_type": "markdown",
   "source": [
    "元のHUBOに対する最適解のエネルギーは-3.0であることがわかります。"
   ],
   "metadata": {}
  },
  {
   "cell_type": "markdown",
   "source": [
    "## HUBOによる直接解法とQUBO変換による解法結果の比較\n",
    "\n",
    "最後に, HUBOによる直接解法とQUBO変換による解法を比較します。 SAによるシミュレーションを100回行い、各シミュレーションで得られたエネルギーを比較してみます。 結果をヒストグラムにすると次のようになります。"
   ],
   "metadata": {}
  },
  {
   "cell_type": "code",
   "execution_count": 144,
   "source": [
    "plt.hist(energy_quad, label='Through QUBO', range=(-3, 1), bins=10, alpha=0.5)\n",
    "plt.hist(energy_hubo, label='HUBO', range=(-3, 1), bins=10, alpha=0.5)\n",
    "plt.legend()\n",
    "plt.xlabel('Energy')\n",
    "plt.ylabel('Frequency')"
   ],
   "outputs": [
    {
     "output_type": "execute_result",
     "data": {
      "text/plain": [
       "Text(0, 0.5, 'Frequency')"
      ]
     },
     "metadata": {},
     "execution_count": 144
    },
    {
     "output_type": "display_data",
     "data": {
      "image/png": "[encoded data removed]",
      "text/plain": [
       "<Figure size 432x288 with 1 Axes>"
      ]
     },
     "metadata": {
      "needs_background": "light"
     }
    }
   ],
   "metadata": {}
  },
  {
   "cell_type": "markdown",
   "source": [
    "HUBOを直接解いた方が、最適解を導くエネルギーを多く得ることができていることがわかります。"
   ],
   "metadata": {}
  },
  {
   "cell_type": "markdown",
   "source": [
    "## QUBO変換による解法の問題点\n",
    "以上より、QUBO変換による解法の問題点として、以下の2点が考えられます。\n",
    "\n",
    "1. ペナルティの大きさ(strength)の適切な値が不明瞭である。\n",
    "2. QUBO変換した際に変数、相互作用の数が増えてしまい、変換時間もかかってしまう。"
   ],
   "metadata": {}
  },
  {
   "cell_type": "markdown",
   "source": [],
   "metadata": {}
  },
  {
   "cell_type": "code",
   "execution_count": 145,
   "source": [
    "# HUBOを定義します。\n",
    "N = 3\n",
    "polynomial = {(1,): -1, (1,2): -1, (1,2,3): 1}\n",
    "\n",
    "# N = 5\n",
    "# polynomial = {}\n",
    "# for i in range(1,N+1):\n",
    "#     for j in range(i+1, N+1):\n",
    "#         for k in range(j + 1, N+1):\n",
    "#             polynomial[(i,j,k)] = -1\n",
    "\n",
    "import openjij as oj\n",
    "import dimod\n",
    "import numpy as np\n",
    "import matplotlib.pyplot as plt\n",
    "\n",
    "\n",
    "#SAによるシミュレーションを行う回数を指定します。\n",
    "num_sa = 100 \n",
    "st = 1\n",
    "end = 10\n",
    "bw_num = 10 \n",
    "\n",
    "n_cols = 5\n",
    "\n",
    "\n",
    "# HUBOメソッドを利用するためには、SASamplerメソッドを用いる必要があります。\n",
    "sampler = oj.SASampler()\n",
    "\n",
    "energy_quad_all = []\n",
    "\n",
    "# インデックスを1始まりの整数に変換する関数を定義します。\n",
    "def relabel_variables_as_integers(dimod_bqm):\n",
    "    mapping = {}\n",
    "    variables = list(dimod_bqm.variables)\n",
    "    count = 1\n",
    "    for key in variables:\n",
    "        mapping[key] = count\n",
    "        count += 1\n",
    "    linear    = {mapping[k]:v for k,v in dimod_bqm.linear.items()}\n",
    "    quadratic = {(mapping[k[0]], mapping[k[1]]):v for k,v in dimod_bqm.quadratic.items()}\n",
    "    return dimod.BinaryQuadraticModel(linear, quadratic, dimod_bqm.offset, dimod_bqm.vartype), mapping\n",
    "\n",
    "\n",
    "\n",
    "for val in np.linspace(st,end,bw_num): \n",
    "\n",
    "    # HUBO直接解法\n",
    "    response = sampler.sample_hubo(polynomial, vartype=\"SPIN\", num_reads=num_sa)\n",
    "    energy_hubo = response.energies\n",
    "\n",
    "\n",
    "    # QUBO変換による解法\n",
    "    # HUBO、ペナルティの大きさ、変数のタイプを指定して対応するquadraticモデルを生成します。\n",
    "    bqm = dimod.make_quadratic(poly=polynomial, strength=val, vartype=\"SPIN\")\n",
    "    print('0次の項:', bqm.offset)\n",
    "    print('1次の項:', dict(bqm.linear))    # bqm.linearはpythonのdictに変換して表示します。\n",
    "    print('2次の項:', dict(bqm.quadratic)) # bqm.quadraticもpythonのdictに変換して表示します。\n",
    "\n",
    "\n",
    "    bqm_relabeled, mapping = relabel_variables_as_integers(bqm) # インデックスを1始まりに変換します。\n",
    "\n",
    "    print('0次の項:', bqm_relabeled.offset)\n",
    "    print('1次の項:', dict(bqm_relabeled.linear))    # bqm.linearはpythonのdictに変換して表示します。\n",
    "    print('2次の項:', dict(bqm_relabeled.quadratic)) # bqm.quadraticもpythonのdictに変換して表示します。\n",
    "    print('変数の対応関係:', mapping) # Relabelした後のインデックスと元のインデックスの対応関係を表示します。\n",
    "\n",
    "    # dimodのbqm_relabeledはOpenJijのBinaryQuadraticModelに変換します。\n",
    "    bqm_oj = oj.BinaryQuadraticModel(dict(bqm_relabeled.linear), dict(bqm_relabeled.quadratic), bqm_relabeled.offset, vartype=\"SPIN\")\n",
    "\n",
    "\n",
    "    #　ここまでの前処理をした後に、sampleメソッドに投げることができます。\n",
    "    response = sampler.sample(bqm_oj, num_reads=num_sa)\n",
    "\n",
    "    ## QUBOを変換を通した解法によるエネルギーを定義します。\n",
    "    energy_quad = np.zeros(num_sa)\n",
    "\n",
    "    print(response.record[0])\n",
    "    print(mapping)\n",
    "\n",
    "    # HUBO vs QUBO\n",
    "    for i in range(num_sa):\n",
    "        hubo_configuration = {j: response.record[i][0][mapping[j]-1] for j in range(1 , N+1)}\n",
    "        energy_quad[i] = dimod.BinaryPolynomial(polynomial, \"BINARY\").energy(hubo_configuration)\n",
    "\n",
    "        # print(response.record[i][0], hubo_configuration)\n",
    "\n",
    "    energy_quad_all.append(energy_quad)\n",
    "\n",
    "\n",
    "columns = np.linspace(st,end,bw_num)\n",
    "n_figs = bw_num\n",
    "n_rows = n_figs // n_cols\n",
    "\n",
    "fig, axes = plt.subplots(ncols=n_cols, nrows=n_rows, figsize=(n_cols * 3, n_rows * 3))\n",
    "fig.subplots_adjust(wspace=0.7, hspace=1.4)\n",
    "\n",
    "# multi plot\n",
    "i = 0\n",
    "for c, ax in zip(columns, axes.ravel()):\n",
    "\n",
    "    ax.hist(energy_hubo, label='HUBO', bins=10, range=(-3, 0), alpha=0.5)\n",
    "    ax.hist(energy_quad_all[i], label='Through QUBO', range=(-3, 0), bins=10, alpha=0.5)\n",
    "    \n",
    "    ax.set_title('strength= {:.1f}'.format(c))\n",
    "    \n",
    "    i += 1\n",
    "    if i==n_cols:\n",
    "        ax.legend(bbox_to_anchor=(1.05, 1), loc='upper left', borderaxespad=0)\n",
    "\n",
    "\n",
    "fig.tight_layout()\n",
    "# save figure\n",
    "plt.show()"
   ],
   "outputs": [
    {
     "output_type": "stream",
     "name": "stdout",
     "text": [
      "0次の項: 2.0\n",
      "1次の項: {1: -1.5, '1*2': -1.5, 3: 0.0, 2: -0.5, 'aux1,2': -1.0}\n",
      "2次の項: {('1*2', 1): 0.5, (3, '1*2'): 1.0, (2, 1): 0.5, (2, '1*2'): 0.5, ('aux1,2', 1): 1.0, ('aux1,2', '1*2'): 1.0, ('aux1,2', 2): 1.0}\n",
      "0次の項: 2.0\n",
      "1次の項: {2: -1.5, 1: -1.5, 3: 0.0, 4: -0.5, 5: -1.0}\n",
      "2次の項: {(1, 2): 0.5, (3, 2): 1.0, (4, 2): 0.5, (4, 1): 0.5, (5, 2): 1.0, (5, 1): 1.0, (5, 4): 1.0}\n",
      "変数の対応関係: {1: 1, '1*2': 2, 3: 3, 2: 4, 'aux1,2': 5}\n",
      "([ 1,  1, -1,  1, -1], -3., 1)\n",
      "{1: 1, '1*2': 2, 3: 3, 2: 4, 'aux1,2': 5}\n",
      "0次の項: 4.0\n",
      "1次の項: {1: -2.0, '1*2': -2.0, 3: 0.0, 2: -1.0, 'aux1,2': -2.0}\n",
      "2次の項: {('1*2', 1): 1.0, (3, '1*2'): 1.0, (2, 1): 1.0, (2, '1*2'): 1.0, ('aux1,2', 1): 2.0, ('aux1,2', '1*2'): 2.0, ('aux1,2', 2): 2.0}\n",
      "0次の項: 4.0\n",
      "1次の項: {2: -2.0, 1: -2.0, 3: 0.0, 4: -1.0, 5: -2.0}\n",
      "2次の項: {(1, 2): 1.0, (3, 2): 1.0, (4, 2): 1.0, (4, 1): 1.0, (5, 2): 2.0, (5, 1): 2.0, (5, 4): 2.0}\n",
      "変数の対応関係: {1: 1, '1*2': 2, 3: 3, 2: 4, 'aux1,2': 5}\n",
      "([ 1,  1, -1,  1, -1], -3., 1)\n",
      "{1: 1, '1*2': 2, 3: 3, 2: 4, 'aux1,2': 5}\n",
      "0次の項: 6.0\n",
      "1次の項: {1: -2.5, '1*2': -2.5, 3: 0.0, 2: -1.5, 'aux1,2': -3.0}\n",
      "2次の項: {('1*2', 1): 1.5, (3, '1*2'): 1.0, (2, 1): 1.5, (2, '1*2'): 1.5, ('aux1,2', 1): 3.0, ('aux1,2', '1*2'): 3.0, ('aux1,2', 2): 3.0}\n",
      "0次の項: 6.0\n",
      "1次の項: {2: -2.5, 1: -2.5, 3: 0.0, 4: -1.5, 5: -3.0}\n",
      "2次の項: {(1, 2): 1.5, (3, 2): 1.0, (4, 2): 1.5, (4, 1): 1.5, (5, 2): 3.0, (5, 1): 3.0, (5, 4): 3.0}\n",
      "変数の対応関係: {1: 1, '1*2': 2, 3: 3, 2: 4, 'aux1,2': 5}\n",
      "([ 1,  1, -1,  1, -1], -3., 1)\n",
      "{1: 1, '1*2': 2, 3: 3, 2: 4, 'aux1,2': 5}\n",
      "0次の項: 8.0\n",
      "1次の項: {1: -3.0, '1*2': -3.0, 3: 0.0, 2: -2.0, 'aux1,2': -4.0}\n",
      "2次の項: {('1*2', 1): 2.0, (3, '1*2'): 1.0, (2, 1): 2.0, (2, '1*2'): 2.0, ('aux1,2', 1): 4.0, ('aux1,2', '1*2'): 4.0, ('aux1,2', 2): 4.0}\n",
      "0次の項: 8.0\n",
      "1次の項: {2: -3.0, 1: -3.0, 3: 0.0, 4: -2.0, 5: -4.0}\n",
      "2次の項: {(1, 2): 2.0, (3, 2): 1.0, (4, 2): 2.0, (4, 1): 2.0, (5, 2): 4.0, (5, 1): 4.0, (5, 4): 4.0}\n",
      "変数の対応関係: {1: 1, '1*2': 2, 3: 3, 2: 4, 'aux1,2': 5}\n",
      "([ 1,  1, -1,  1, -1], -3., 1)\n",
      "{1: 1, '1*2': 2, 3: 3, 2: 4, 'aux1,2': 5}\n",
      "0次の項: 10.0\n",
      "1次の項: {1: -3.5, '1*2': -3.5, 3: 0.0, 2: -2.5, 'aux1,2': -5.0}\n",
      "2次の項: {('1*2', 1): 2.5, (3, '1*2'): 1.0, (2, 1): 2.5, (2, '1*2'): 2.5, ('aux1,2', 1): 5.0, ('aux1,2', '1*2'): 5.0, ('aux1,2', 2): 5.0}\n",
      "0次の項: 10.0\n",
      "1次の項: {2: -3.5, 1: -3.5, 3: 0.0, 4: -2.5, 5: -5.0}\n",
      "2次の項: {(1, 2): 2.5, (3, 2): 1.0, (4, 2): 2.5, (4, 1): 2.5, (5, 2): 5.0, (5, 1): 5.0, (5, 4): 5.0}\n",
      "変数の対応関係: {1: 1, '1*2': 2, 3: 3, 2: 4, 'aux1,2': 5}\n",
      "([ 1,  1, -1,  1, -1], -3., 1)\n",
      "{1: 1, '1*2': 2, 3: 3, 2: 4, 'aux1,2': 5}\n",
      "0次の項: 12.0\n",
      "1次の項: {1: -4.0, '1*2': -4.0, 3: 0.0, 2: -3.0, 'aux1,2': -6.0}\n",
      "2次の項: {('1*2', 1): 3.0, (3, '1*2'): 1.0, (2, 1): 3.0, (2, '1*2'): 3.0, ('aux1,2', 1): 6.0, ('aux1,2', '1*2'): 6.0, ('aux1,2', 2): 6.0}\n",
      "0次の項: 12.0\n",
      "1次の項: {2: -4.0, 1: -4.0, 3: 0.0, 4: -3.0, 5: -6.0}\n",
      "2次の項: {(1, 2): 3.0, (3, 2): 1.0, (4, 2): 3.0, (4, 1): 3.0, (5, 2): 6.0, (5, 1): 6.0, (5, 4): 6.0}\n",
      "変数の対応関係: {1: 1, '1*2': 2, 3: 3, 2: 4, 'aux1,2': 5}\n",
      "([-1,  1, -1, -1,  1], -1., 1)\n",
      "{1: 1, '1*2': 2, 3: 3, 2: 4, 'aux1,2': 5}\n",
      "0次の項: 14.0\n",
      "1次の項: {1: -4.5, '1*2': -4.5, 3: 0.0, 2: -3.5, 'aux1,2': -7.0}\n",
      "2次の項: {('1*2', 1): 3.5, (3, '1*2'): 1.0, (2, 1): 3.5, (2, '1*2'): 3.5, ('aux1,2', 1): 7.0, ('aux1,2', '1*2'): 7.0, ('aux1,2', 2): 7.0}\n",
      "0次の項: 14.0\n",
      "1次の項: {2: -4.5, 1: -4.5, 3: 0.0, 4: -3.5, 5: -7.0}\n",
      "2次の項: {(1, 2): 3.5, (3, 2): 1.0, (4, 2): 3.5, (4, 1): 3.5, (5, 2): 7.0, (5, 1): 7.0, (5, 4): 7.0}\n",
      "変数の対応関係: {1: 1, '1*2': 2, 3: 3, 2: 4, 'aux1,2': 5}\n",
      "([ 1,  1, -1,  1, -1], -3., 1)\n",
      "{1: 1, '1*2': 2, 3: 3, 2: 4, 'aux1,2': 5}\n",
      "0次の項: 16.0\n",
      "1次の項: {1: -5.0, '1*2': -5.0, 3: 0.0, 2: -4.0, 'aux1,2': -8.0}\n",
      "2次の項: {('1*2', 1): 4.0, (3, '1*2'): 1.0, (2, 1): 4.0, (2, '1*2'): 4.0, ('aux1,2', 1): 8.0, ('aux1,2', '1*2'): 8.0, ('aux1,2', 2): 8.0}\n",
      "0次の項: 16.0\n",
      "1次の項: {2: -5.0, 1: -5.0, 3: 0.0, 4: -4.0, 5: -8.0}\n",
      "2次の項: {(1, 2): 4.0, (3, 2): 1.0, (4, 2): 4.0, (4, 1): 4.0, (5, 2): 8.0, (5, 1): 8.0, (5, 4): 8.0}\n",
      "変数の対応関係: {1: 1, '1*2': 2, 3: 3, 2: 4, 'aux1,2': 5}\n",
      "([ 1,  1, -1,  1, -1], -3., 1)\n",
      "{1: 1, '1*2': 2, 3: 3, 2: 4, 'aux1,2': 5}\n",
      "0次の項: 18.0\n",
      "1次の項: {1: -5.5, '1*2': -5.5, 3: 0.0, 2: -4.5, 'aux1,2': -9.0}\n",
      "2次の項: {('1*2', 1): 4.5, (3, '1*2'): 1.0, (2, 1): 4.5, (2, '1*2'): 4.5, ('aux1,2', 1): 9.0, ('aux1,2', '1*2'): 9.0, ('aux1,2', 2): 9.0}\n",
      "0次の項: 18.0\n",
      "1次の項: {2: -5.5, 1: -5.5, 3: 0.0, 4: -4.5, 5: -9.0}\n",
      "2次の項: {(1, 2): 4.5, (3, 2): 1.0, (4, 2): 4.5, (4, 1): 4.5, (5, 2): 9.0, (5, 1): 9.0, (5, 4): 9.0}\n",
      "変数の対応関係: {1: 1, '1*2': 2, 3: 3, 2: 4, 'aux1,2': 5}\n",
      "([ 1,  1, -1,  1, -1], -3., 1)\n",
      "{1: 1, '1*2': 2, 3: 3, 2: 4, 'aux1,2': 5}\n",
      "0次の項: 20.0\n",
      "1次の項: {1: -6.0, '1*2': -6.0, 3: 0.0, 2: -5.0, 'aux1,2': -10.0}\n",
      "2次の項: {('1*2', 1): 5.0, (3, '1*2'): 1.0, (2, 1): 5.0, (2, '1*2'): 5.0, ('aux1,2', 1): 10.0, ('aux1,2', '1*2'): 10.0, ('aux1,2', 2): 10.0}\n",
      "0次の項: 20.0\n",
      "1次の項: {2: -6.0, 1: -6.0, 3: 0.0, 4: -5.0, 5: -10.0}\n",
      "2次の項: {(1, 2): 5.0, (3, 2): 1.0, (4, 2): 5.0, (4, 1): 5.0, (5, 2): 10.0, (5, 1): 10.0, (5, 4): 10.0}\n",
      "変数の対応関係: {1: 1, '1*2': 2, 3: 3, 2: 4, 'aux1,2': 5}\n",
      "([ 1, -1,  1, -1,  1], -1., 1)\n",
      "{1: 1, '1*2': 2, 3: 3, 2: 4, 'aux1,2': 5}\n"
     ]
    },
    {
     "output_type": "display_data",
     "data": {
      "image/png": "[encoded data removed]",
      "text/plain": [
       "<Figure size 1080x432 with 10 Axes>"
      ]
     },
     "metadata": {
      "needs_background": "light"
     }
    }
   ],
   "metadata": {}
  },
  {
   "cell_type": "code",
   "execution_count": 146,
   "source": [
    "print(list(bqm_oj.variables))\n",
    "print(bqm_oj.variables)"
   ],
   "outputs": [
    {
     "output_type": "stream",
     "name": "stdout",
     "text": [
      "[1, 2, 3, 4, 5]\n",
      "[1, 2, 3, 4, 5]\n"
     ]
    }
   ],
   "metadata": {}
  },
  {
   "cell_type": "code",
   "execution_count": 147,
   "source": [
    "mapping"
   ],
   "outputs": [
    {
     "output_type": "execute_result",
     "data": {
      "text/plain": [
       "{1: 1, '1*2': 2, 3: 3, 2: 4, 'aux1,2': 5}"
      ]
     },
     "metadata": {},
     "execution_count": 147
    }
   ],
   "metadata": {}
  },
  {
   "cell_type": "code",
   "execution_count": 148,
   "source": [
    "response.record[0][0]"
   ],
   "outputs": [
    {
     "output_type": "execute_result",
     "data": {
      "text/plain": [
       "array([ 1, -1,  1, -1,  1], dtype=int8)"
      ]
     },
     "metadata": {},
     "execution_count": 148
    }
   ],
   "metadata": {}
  },
  {
   "cell_type": "code",
   "execution_count": 149,
   "source": [
    "[ mapping[i] for i in range(1, 4) ]"
   ],
   "outputs": [
    {
     "output_type": "execute_result",
     "data": {
      "text/plain": [
       "[1, 4, 3]"
      ]
     },
     "metadata": {},
     "execution_count": 149
    }
   ],
   "metadata": {}
  },
  {
   "cell_type": "code",
   "execution_count": 150,
   "source": [
    "[ response.record[0][0][mapping[i]-1] for i in range(1, 4) ]"
   ],
   "outputs": [
    {
     "output_type": "execute_result",
     "data": {
      "text/plain": [
       "[1, -1, 1]"
      ]
     },
     "metadata": {},
     "execution_count": 150
    }
   ],
   "metadata": {}
  },
  {
   "cell_type": "code",
   "execution_count": null,
   "source": [],
   "outputs": [],
   "metadata": {}
  }
 ],
 "metadata": {
  "orig_nbformat": 4,
  "language_info": {
   "name": "python",
   "version": "3.7.4",
   "mimetype": "text/x-python",
   "codemirror_mode": {
    "name": "ipython",
    "version": 3
   },
   "pygments_lexer": "ipython3",
   "nbconvert_exporter": "python",
   "file_extension": ".py"
  },
  "kernelspec": {
   "name": "python3",
   "display_name": "Python 3.7.4 64-bit ('Jij': pyenv)"
  },
  "interpreter": {
   "hash": "26149c88d220c3ed2d17341f1c6f96caae4173defcdd371f100d436532ba42d1"
  }
 },
 "nbformat": 4,
 "nbformat_minor": 2
}